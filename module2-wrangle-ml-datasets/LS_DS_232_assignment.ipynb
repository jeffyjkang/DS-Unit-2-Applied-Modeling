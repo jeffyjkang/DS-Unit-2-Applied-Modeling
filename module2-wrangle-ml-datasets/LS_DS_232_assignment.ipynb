{
 "cells": [
  {
   "cell_type": "markdown",
   "metadata": {},
   "source": [
    "BloomTech Data Science\n",
    "\n",
    "*Unit 2, Sprint 3, Module 2*\n",
    "\n",
    "---\n",
    "\n",
    "\n",
    "# Wrangle ML datasets\n",
    "\n",
    "- [ ] Continue to clean and explore your data. \n",
    "- [ ] For the evaluation metric you chose, what score would you get just by guessing?\n",
    "- [ ] Can you make a fast, first model that beats guessing?\n",
    "\n",
    "**We recommend that you use your portfolio project dataset for all assignments this sprint.**\n",
    "\n",
    "**But if you aren't ready yet, or you want more practice, then use the New York City property sales dataset for today's assignment.** Follow the instructions below, to just keep a subset for the Tribeca neighborhood, and remove outliers or dirty data. [Here's a video walkthrough](https://youtu.be/pPWFw8UtBVg?t=584) you can refer to if you get stuck or want hints!\n",
    "\n",
    "- Data Source: [NYC OpenData: NYC Citywide Rolling Calendar Sales](https://data.cityofnewyork.us/dataset/NYC-Citywide-Rolling-Calendar-Sales/usep-8jbt)\n",
    "- Glossary: [NYC Department of Finance: Rolling Sales Data](https://www1.nyc.gov/site/finance/taxes/property-rolling-sales-data.page)"
   ]
  },
  {
   "cell_type": "code",
   "execution_count": 1,
   "metadata": {},
   "outputs": [],
   "source": [
    "%%capture\n",
    "import sys\n",
    "\n",
    "# If you're on Colab:\n",
    "if 'google.colab' in sys.modules:\n",
    "    DATA_PATH = 'https://raw.githubusercontent.com/LambdaSchool/DS-Unit-2-Applied-Modeling/master/data/'\n",
    "    !pip install category_encoders==2.*\n",
    "    !pip install pandas-profiling==2.*\n",
    "\n",
    "# If you're working locally:\n",
    "else:\n",
    "    DATA_PATH = '../data/'"
   ]
  },
  {
   "cell_type": "code",
   "execution_count": 4,
   "metadata": {},
   "outputs": [
    {
     "data": {
      "text/html": [
       "<div>\n",
       "<style scoped>\n",
       "    .dataframe tbody tr th:only-of-type {\n",
       "        vertical-align: middle;\n",
       "    }\n",
       "\n",
       "    .dataframe tbody tr th {\n",
       "        vertical-align: top;\n",
       "    }\n",
       "\n",
       "    .dataframe thead th {\n",
       "        text-align: right;\n",
       "    }\n",
       "</style>\n",
       "<table border=\"1\" class=\"dataframe\">\n",
       "  <thead>\n",
       "    <tr style=\"text-align: right;\">\n",
       "      <th></th>\n",
       "      <th>BOROUGH</th>\n",
       "      <th>NEIGHBORHOOD</th>\n",
       "      <th>BUILDING CLASS CATEGORY</th>\n",
       "      <th>TAX CLASS AT PRESENT</th>\n",
       "      <th>BLOCK</th>\n",
       "      <th>LOT</th>\n",
       "      <th>EASE-MENT</th>\n",
       "      <th>BUILDING CLASS AT PRESENT</th>\n",
       "      <th>ADDRESS</th>\n",
       "      <th>APARTMENT NUMBER</th>\n",
       "      <th>...</th>\n",
       "      <th>RESIDENTIAL UNITS</th>\n",
       "      <th>COMMERCIAL UNITS</th>\n",
       "      <th>TOTAL UNITS</th>\n",
       "      <th>LAND SQUARE FEET</th>\n",
       "      <th>GROSS SQUARE FEET</th>\n",
       "      <th>YEAR BUILT</th>\n",
       "      <th>TAX CLASS AT TIME OF SALE</th>\n",
       "      <th>BUILDING CLASS AT TIME OF SALE</th>\n",
       "      <th>SALE PRICE</th>\n",
       "      <th>SALE DATE</th>\n",
       "    </tr>\n",
       "  </thead>\n",
       "  <tbody>\n",
       "    <tr>\n",
       "      <th>0</th>\n",
       "      <td>1</td>\n",
       "      <td>CHELSEA</td>\n",
       "      <td>13 CONDOS - ELEVATOR APARTMENTS</td>\n",
       "      <td>2</td>\n",
       "      <td>716</td>\n",
       "      <td>1246</td>\n",
       "      <td>NaN</td>\n",
       "      <td>R4</td>\n",
       "      <td>447 WEST 18TH STREET, PH12A</td>\n",
       "      <td>PH12A</td>\n",
       "      <td>...</td>\n",
       "      <td>1.0</td>\n",
       "      <td>0.0</td>\n",
       "      <td>1.0</td>\n",
       "      <td>10,733</td>\n",
       "      <td>1979.0</td>\n",
       "      <td>2007.0</td>\n",
       "      <td>2</td>\n",
       "      <td>R4</td>\n",
       "      <td>$   - 0</td>\n",
       "      <td>01/01/2019</td>\n",
       "    </tr>\n",
       "    <tr>\n",
       "      <th>1</th>\n",
       "      <td>1</td>\n",
       "      <td>FASHION</td>\n",
       "      <td>21 OFFICE BUILDINGS</td>\n",
       "      <td>4</td>\n",
       "      <td>812</td>\n",
       "      <td>68</td>\n",
       "      <td>NaN</td>\n",
       "      <td>O5</td>\n",
       "      <td>144 WEST 37TH STREET</td>\n",
       "      <td>NaN</td>\n",
       "      <td>...</td>\n",
       "      <td>0.0</td>\n",
       "      <td>6.0</td>\n",
       "      <td>6.0</td>\n",
       "      <td>2,962</td>\n",
       "      <td>15435.0</td>\n",
       "      <td>1920.0</td>\n",
       "      <td>4</td>\n",
       "      <td>O5</td>\n",
       "      <td>$   - 0</td>\n",
       "      <td>01/01/2019</td>\n",
       "    </tr>\n",
       "    <tr>\n",
       "      <th>2</th>\n",
       "      <td>1</td>\n",
       "      <td>FASHION</td>\n",
       "      <td>21 OFFICE BUILDINGS</td>\n",
       "      <td>4</td>\n",
       "      <td>839</td>\n",
       "      <td>69</td>\n",
       "      <td>NaN</td>\n",
       "      <td>O5</td>\n",
       "      <td>40 WEST 38TH STREET</td>\n",
       "      <td>NaN</td>\n",
       "      <td>...</td>\n",
       "      <td>0.0</td>\n",
       "      <td>7.0</td>\n",
       "      <td>7.0</td>\n",
       "      <td>2,074</td>\n",
       "      <td>11332.0</td>\n",
       "      <td>1930.0</td>\n",
       "      <td>4</td>\n",
       "      <td>O5</td>\n",
       "      <td>$   - 0</td>\n",
       "      <td>01/01/2019</td>\n",
       "    </tr>\n",
       "    <tr>\n",
       "      <th>3</th>\n",
       "      <td>1</td>\n",
       "      <td>GREENWICH VILLAGE-WEST</td>\n",
       "      <td>13 CONDOS - ELEVATOR APARTMENTS</td>\n",
       "      <td>2</td>\n",
       "      <td>592</td>\n",
       "      <td>1041</td>\n",
       "      <td>NaN</td>\n",
       "      <td>R4</td>\n",
       "      <td>1 SHERIDAN SQUARE, 8C</td>\n",
       "      <td>8C</td>\n",
       "      <td>...</td>\n",
       "      <td>1.0</td>\n",
       "      <td>0.0</td>\n",
       "      <td>1.0</td>\n",
       "      <td>0</td>\n",
       "      <td>500.0</td>\n",
       "      <td>0.0</td>\n",
       "      <td>2</td>\n",
       "      <td>R4</td>\n",
       "      <td>$   - 0</td>\n",
       "      <td>01/01/2019</td>\n",
       "    </tr>\n",
       "    <tr>\n",
       "      <th>4</th>\n",
       "      <td>1</td>\n",
       "      <td>UPPER EAST SIDE (59-79)</td>\n",
       "      <td>15 CONDOS - 2-10 UNIT RESIDENTIAL</td>\n",
       "      <td>2C</td>\n",
       "      <td>1379</td>\n",
       "      <td>1402</td>\n",
       "      <td>NaN</td>\n",
       "      <td>R1</td>\n",
       "      <td>20 EAST 65TH STREET, B</td>\n",
       "      <td>B</td>\n",
       "      <td>...</td>\n",
       "      <td>1.0</td>\n",
       "      <td>0.0</td>\n",
       "      <td>1.0</td>\n",
       "      <td>0</td>\n",
       "      <td>6406.0</td>\n",
       "      <td>0.0</td>\n",
       "      <td>2</td>\n",
       "      <td>R1</td>\n",
       "      <td>$   - 0</td>\n",
       "      <td>01/01/2019</td>\n",
       "    </tr>\n",
       "  </tbody>\n",
       "</table>\n",
       "<p>5 rows × 21 columns</p>\n",
       "</div>"
      ],
      "text/plain": [
       "   BOROUGH             NEIGHBORHOOD            BUILDING CLASS CATEGORY  \\\n",
       "0        1                  CHELSEA    13 CONDOS - ELEVATOR APARTMENTS   \n",
       "1        1                  FASHION                21 OFFICE BUILDINGS   \n",
       "2        1                  FASHION                21 OFFICE BUILDINGS   \n",
       "3        1   GREENWICH VILLAGE-WEST    13 CONDOS - ELEVATOR APARTMENTS   \n",
       "4        1  UPPER EAST SIDE (59-79)  15 CONDOS - 2-10 UNIT RESIDENTIAL   \n",
       "\n",
       "  TAX CLASS AT PRESENT  BLOCK   LOT  EASE-MENT BUILDING CLASS AT PRESENT  \\\n",
       "0                    2    716  1246        NaN                        R4   \n",
       "1                    4    812    68        NaN                        O5   \n",
       "2                    4    839    69        NaN                        O5   \n",
       "3                    2    592  1041        NaN                        R4   \n",
       "4                   2C   1379  1402        NaN                        R1   \n",
       "\n",
       "                       ADDRESS APARTMENT NUMBER  ...  RESIDENTIAL UNITS  \\\n",
       "0  447 WEST 18TH STREET, PH12A            PH12A  ...                1.0   \n",
       "1         144 WEST 37TH STREET              NaN  ...                0.0   \n",
       "2          40 WEST 38TH STREET              NaN  ...                0.0   \n",
       "3        1 SHERIDAN SQUARE, 8C               8C  ...                1.0   \n",
       "4       20 EAST 65TH STREET, B                B  ...                1.0   \n",
       "\n",
       "   COMMERCIAL UNITS  TOTAL UNITS  LAND SQUARE FEET GROSS SQUARE FEET  \\\n",
       "0               0.0          1.0            10,733            1979.0   \n",
       "1               6.0          6.0             2,962           15435.0   \n",
       "2               7.0          7.0             2,074           11332.0   \n",
       "3               0.0          1.0                 0             500.0   \n",
       "4               0.0          1.0                 0            6406.0   \n",
       "\n",
       "   YEAR BUILT  TAX CLASS AT TIME OF SALE  BUILDING CLASS AT TIME OF SALE  \\\n",
       "0      2007.0                          2                              R4   \n",
       "1      1920.0                          4                              O5   \n",
       "2      1930.0                          4                              O5   \n",
       "3         0.0                          2                              R4   \n",
       "4         0.0                          2                              R1   \n",
       "\n",
       "  SALE PRICE   SALE DATE  \n",
       "0    $   - 0  01/01/2019  \n",
       "1    $   - 0  01/01/2019  \n",
       "2    $   - 0  01/01/2019  \n",
       "3    $   - 0  01/01/2019  \n",
       "4    $   - 0  01/01/2019  \n",
       "\n",
       "[5 rows x 21 columns]"
      ]
     },
     "metadata": {},
     "output_type": "display_data"
    },
    {
     "name": "stdout",
     "output_type": "stream",
     "text": [
      "<class 'pandas.core.frame.DataFrame'>\n",
      "RangeIndex: 23040 entries, 0 to 23039\n",
      "Data columns (total 21 columns):\n",
      " #   Column                          Non-Null Count  Dtype  \n",
      "---  ------                          --------------  -----  \n",
      " 0   BOROUGH                         23040 non-null  int64  \n",
      " 1   NEIGHBORHOOD                    23040 non-null  object \n",
      " 2   BUILDING CLASS CATEGORY         23040 non-null  object \n",
      " 3   TAX CLASS AT PRESENT            23039 non-null  object \n",
      " 4   BLOCK                           23040 non-null  int64  \n",
      " 5   LOT                             23040 non-null  int64  \n",
      " 6   EASE-MENT                       0 non-null      float64\n",
      " 7   BUILDING CLASS AT PRESENT       23039 non-null  object \n",
      " 8   ADDRESS                         23040 non-null  object \n",
      " 9   APARTMENT NUMBER                5201 non-null   object \n",
      " 10  ZIP CODE                        23039 non-null  float64\n",
      " 11  RESIDENTIAL UNITS               23039 non-null  float64\n",
      " 12  COMMERCIAL UNITS                23039 non-null  float64\n",
      " 13  TOTAL UNITS                     23039 non-null  float64\n",
      " 14  LAND SQUARE FEET                22987 non-null  object \n",
      " 15  GROSS SQUARE FEET               23039 non-null  float64\n",
      " 16  YEAR BUILT                      23005 non-null  float64\n",
      " 17  TAX CLASS AT TIME OF SALE       23040 non-null  int64  \n",
      " 18  BUILDING CLASS AT TIME OF SALE  23040 non-null  object \n",
      " 19  SALE PRICE                      23040 non-null  object \n",
      " 20  SALE DATE                       23040 non-null  object \n",
      "dtypes: float64(7), int64(4), object(10)\n",
      "memory usage: 3.7+ MB\n"
     ]
    },
    {
     "data": {
      "text/plain": [
       "None"
      ]
     },
     "metadata": {},
     "output_type": "display_data"
    }
   ],
   "source": [
    "# Read New York City property sales data\n",
    "import pandas as pd\n",
    "df = pd.read_csv(DATA_PATH+'condos/NYC_Citywide_Rolling_Calendar_Sales.csv')\n",
    "display(df.head())\n",
    "display(df.info())"
   ]
  },
  {
   "cell_type": "markdown",
   "metadata": {},
   "source": [
    "Your code starts here:"
   ]
  },
  {
   "cell_type": "code",
   "execution_count": 51,
   "metadata": {},
   "outputs": [
    {
     "data": {
      "text/plain": [
       "(23040, 21)"
      ]
     },
     "metadata": {},
     "output_type": "display_data"
    },
    {
     "data": {
      "text/html": [
       "<div>\n",
       "<style scoped>\n",
       "    .dataframe tbody tr th:only-of-type {\n",
       "        vertical-align: middle;\n",
       "    }\n",
       "\n",
       "    .dataframe tbody tr th {\n",
       "        vertical-align: top;\n",
       "    }\n",
       "\n",
       "    .dataframe thead th {\n",
       "        text-align: right;\n",
       "    }\n",
       "</style>\n",
       "<table border=\"1\" class=\"dataframe\">\n",
       "  <thead>\n",
       "    <tr style=\"text-align: right;\">\n",
       "      <th></th>\n",
       "      <th>BOROUGH</th>\n",
       "      <th>NEIGHBORHOOD</th>\n",
       "      <th>BUILDING_CLASS_CATEGORY</th>\n",
       "      <th>TAX_CLASS_AT_PRESENT</th>\n",
       "      <th>BLOCK</th>\n",
       "      <th>LOT</th>\n",
       "      <th>EASE-MENT</th>\n",
       "      <th>BUILDING_CLASS_AT_PRESENT</th>\n",
       "      <th>ADDRESS</th>\n",
       "      <th>APARTMENT_NUMBER</th>\n",
       "      <th>...</th>\n",
       "      <th>RESIDENTIAL_UNITS</th>\n",
       "      <th>COMMERCIAL_UNITS</th>\n",
       "      <th>TOTAL_UNITS</th>\n",
       "      <th>LAND_SQUARE_FEET</th>\n",
       "      <th>GROSS_SQUARE_FEET</th>\n",
       "      <th>YEAR_BUILT</th>\n",
       "      <th>TAX_CLASS_AT_TIME_OF_SALE</th>\n",
       "      <th>BUILDING_CLASS_AT_TIME_OF_SALE</th>\n",
       "      <th>SALE_PRICE</th>\n",
       "      <th>SALE_DATE</th>\n",
       "    </tr>\n",
       "  </thead>\n",
       "  <tbody>\n",
       "    <tr>\n",
       "      <th>0</th>\n",
       "      <td>1</td>\n",
       "      <td>CHELSEA</td>\n",
       "      <td>13 CONDOS - ELEVATOR APARTMENTS</td>\n",
       "      <td>2</td>\n",
       "      <td>716</td>\n",
       "      <td>1246</td>\n",
       "      <td>NaN</td>\n",
       "      <td>R4</td>\n",
       "      <td>447 WEST 18TH STREET, PH12A</td>\n",
       "      <td>PH12A</td>\n",
       "      <td>...</td>\n",
       "      <td>1.0</td>\n",
       "      <td>0.0</td>\n",
       "      <td>1.0</td>\n",
       "      <td>10,733</td>\n",
       "      <td>1979.0</td>\n",
       "      <td>2007.0</td>\n",
       "      <td>2</td>\n",
       "      <td>R4</td>\n",
       "      <td>$   - 0</td>\n",
       "      <td>01/01/2019</td>\n",
       "    </tr>\n",
       "    <tr>\n",
       "      <th>1</th>\n",
       "      <td>1</td>\n",
       "      <td>FASHION</td>\n",
       "      <td>21 OFFICE BUILDINGS</td>\n",
       "      <td>4</td>\n",
       "      <td>812</td>\n",
       "      <td>68</td>\n",
       "      <td>NaN</td>\n",
       "      <td>O5</td>\n",
       "      <td>144 WEST 37TH STREET</td>\n",
       "      <td>NaN</td>\n",
       "      <td>...</td>\n",
       "      <td>0.0</td>\n",
       "      <td>6.0</td>\n",
       "      <td>6.0</td>\n",
       "      <td>2,962</td>\n",
       "      <td>15435.0</td>\n",
       "      <td>1920.0</td>\n",
       "      <td>4</td>\n",
       "      <td>O5</td>\n",
       "      <td>$   - 0</td>\n",
       "      <td>01/01/2019</td>\n",
       "    </tr>\n",
       "    <tr>\n",
       "      <th>2</th>\n",
       "      <td>1</td>\n",
       "      <td>FASHION</td>\n",
       "      <td>21 OFFICE BUILDINGS</td>\n",
       "      <td>4</td>\n",
       "      <td>839</td>\n",
       "      <td>69</td>\n",
       "      <td>NaN</td>\n",
       "      <td>O5</td>\n",
       "      <td>40 WEST 38TH STREET</td>\n",
       "      <td>NaN</td>\n",
       "      <td>...</td>\n",
       "      <td>0.0</td>\n",
       "      <td>7.0</td>\n",
       "      <td>7.0</td>\n",
       "      <td>2,074</td>\n",
       "      <td>11332.0</td>\n",
       "      <td>1930.0</td>\n",
       "      <td>4</td>\n",
       "      <td>O5</td>\n",
       "      <td>$   - 0</td>\n",
       "      <td>01/01/2019</td>\n",
       "    </tr>\n",
       "    <tr>\n",
       "      <th>3</th>\n",
       "      <td>1</td>\n",
       "      <td>GREENWICH VILLAGE-WEST</td>\n",
       "      <td>13 CONDOS - ELEVATOR APARTMENTS</td>\n",
       "      <td>2</td>\n",
       "      <td>592</td>\n",
       "      <td>1041</td>\n",
       "      <td>NaN</td>\n",
       "      <td>R4</td>\n",
       "      <td>1 SHERIDAN SQUARE, 8C</td>\n",
       "      <td>8C</td>\n",
       "      <td>...</td>\n",
       "      <td>1.0</td>\n",
       "      <td>0.0</td>\n",
       "      <td>1.0</td>\n",
       "      <td>0</td>\n",
       "      <td>500.0</td>\n",
       "      <td>0.0</td>\n",
       "      <td>2</td>\n",
       "      <td>R4</td>\n",
       "      <td>$   - 0</td>\n",
       "      <td>01/01/2019</td>\n",
       "    </tr>\n",
       "    <tr>\n",
       "      <th>4</th>\n",
       "      <td>1</td>\n",
       "      <td>UPPER EAST SIDE (59-79)</td>\n",
       "      <td>15 CONDOS - 2-10 UNIT RESIDENTIAL</td>\n",
       "      <td>2C</td>\n",
       "      <td>1379</td>\n",
       "      <td>1402</td>\n",
       "      <td>NaN</td>\n",
       "      <td>R1</td>\n",
       "      <td>20 EAST 65TH STREET, B</td>\n",
       "      <td>B</td>\n",
       "      <td>...</td>\n",
       "      <td>1.0</td>\n",
       "      <td>0.0</td>\n",
       "      <td>1.0</td>\n",
       "      <td>0</td>\n",
       "      <td>6406.0</td>\n",
       "      <td>0.0</td>\n",
       "      <td>2</td>\n",
       "      <td>R1</td>\n",
       "      <td>$   - 0</td>\n",
       "      <td>01/01/2019</td>\n",
       "    </tr>\n",
       "  </tbody>\n",
       "</table>\n",
       "<p>5 rows × 21 columns</p>\n",
       "</div>"
      ],
      "text/plain": [
       "   BOROUGH             NEIGHBORHOOD            BUILDING_CLASS_CATEGORY  \\\n",
       "0        1                  CHELSEA    13 CONDOS - ELEVATOR APARTMENTS   \n",
       "1        1                  FASHION                21 OFFICE BUILDINGS   \n",
       "2        1                  FASHION                21 OFFICE BUILDINGS   \n",
       "3        1   GREENWICH VILLAGE-WEST    13 CONDOS - ELEVATOR APARTMENTS   \n",
       "4        1  UPPER EAST SIDE (59-79)  15 CONDOS - 2-10 UNIT RESIDENTIAL   \n",
       "\n",
       "  TAX_CLASS_AT_PRESENT  BLOCK   LOT  EASE-MENT BUILDING_CLASS_AT_PRESENT  \\\n",
       "0                    2    716  1246        NaN                        R4   \n",
       "1                    4    812    68        NaN                        O5   \n",
       "2                    4    839    69        NaN                        O5   \n",
       "3                    2    592  1041        NaN                        R4   \n",
       "4                   2C   1379  1402        NaN                        R1   \n",
       "\n",
       "                       ADDRESS APARTMENT_NUMBER  ...  RESIDENTIAL_UNITS  \\\n",
       "0  447 WEST 18TH STREET, PH12A            PH12A  ...                1.0   \n",
       "1         144 WEST 37TH STREET              NaN  ...                0.0   \n",
       "2          40 WEST 38TH STREET              NaN  ...                0.0   \n",
       "3        1 SHERIDAN SQUARE, 8C               8C  ...                1.0   \n",
       "4       20 EAST 65TH STREET, B                B  ...                1.0   \n",
       "\n",
       "   COMMERCIAL_UNITS  TOTAL_UNITS  LAND_SQUARE_FEET GROSS_SQUARE_FEET  \\\n",
       "0               0.0          1.0            10,733            1979.0   \n",
       "1               6.0          6.0             2,962           15435.0   \n",
       "2               7.0          7.0             2,074           11332.0   \n",
       "3               0.0          1.0                 0             500.0   \n",
       "4               0.0          1.0                 0            6406.0   \n",
       "\n",
       "   YEAR_BUILT  TAX_CLASS_AT_TIME_OF_SALE  BUILDING_CLASS_AT_TIME_OF_SALE  \\\n",
       "0      2007.0                          2                              R4   \n",
       "1      1920.0                          4                              O5   \n",
       "2      1930.0                          4                              O5   \n",
       "3         0.0                          2                              R4   \n",
       "4         0.0                          2                              R1   \n",
       "\n",
       "  SALE_PRICE   SALE_DATE  \n",
       "0    $   - 0  01/01/2019  \n",
       "1    $   - 0  01/01/2019  \n",
       "2    $   - 0  01/01/2019  \n",
       "3    $   - 0  01/01/2019  \n",
       "4    $   - 0  01/01/2019  \n",
       "\n",
       "[5 rows x 21 columns]"
      ]
     },
     "metadata": {},
     "output_type": "display_data"
    },
    {
     "data": {
      "text/html": [
       "<div>\n",
       "<style scoped>\n",
       "    .dataframe tbody tr th:only-of-type {\n",
       "        vertical-align: middle;\n",
       "    }\n",
       "\n",
       "    .dataframe tbody tr th {\n",
       "        vertical-align: top;\n",
       "    }\n",
       "\n",
       "    .dataframe thead th {\n",
       "        text-align: right;\n",
       "    }\n",
       "</style>\n",
       "<table border=\"1\" class=\"dataframe\">\n",
       "  <thead>\n",
       "    <tr style=\"text-align: right;\">\n",
       "      <th></th>\n",
       "      <th>BOROUGH</th>\n",
       "      <th>NEIGHBORHOOD</th>\n",
       "      <th>BUILDING_CLASS_CATEGORY</th>\n",
       "      <th>TAX_CLASS_AT_PRESENT</th>\n",
       "      <th>BLOCK</th>\n",
       "      <th>LOT</th>\n",
       "      <th>EASE-MENT</th>\n",
       "      <th>BUILDING_CLASS_AT_PRESENT</th>\n",
       "      <th>ADDRESS</th>\n",
       "      <th>APARTMENT_NUMBER</th>\n",
       "      <th>...</th>\n",
       "      <th>RESIDENTIAL_UNITS</th>\n",
       "      <th>COMMERCIAL_UNITS</th>\n",
       "      <th>TOTAL_UNITS</th>\n",
       "      <th>LAND_SQUARE_FEET</th>\n",
       "      <th>GROSS_SQUARE_FEET</th>\n",
       "      <th>YEAR_BUILT</th>\n",
       "      <th>TAX_CLASS_AT_TIME_OF_SALE</th>\n",
       "      <th>BUILDING_CLASS_AT_TIME_OF_SALE</th>\n",
       "      <th>SALE_PRICE</th>\n",
       "      <th>SALE_DATE</th>\n",
       "    </tr>\n",
       "  </thead>\n",
       "  <tbody>\n",
       "    <tr>\n",
       "      <th>23035</th>\n",
       "      <td>4</td>\n",
       "      <td>ST. ALBANS</td>\n",
       "      <td>01 ONE FAMILY DWELLINGS</td>\n",
       "      <td>1</td>\n",
       "      <td>10965</td>\n",
       "      <td>276</td>\n",
       "      <td>NaN</td>\n",
       "      <td>A5</td>\n",
       "      <td>111-17 FRANCIS LEWIS BLVD</td>\n",
       "      <td>NaN</td>\n",
       "      <td>...</td>\n",
       "      <td>1.0</td>\n",
       "      <td>0.0</td>\n",
       "      <td>1.0</td>\n",
       "      <td>1,800</td>\n",
       "      <td>1224.0</td>\n",
       "      <td>1945.0</td>\n",
       "      <td>1</td>\n",
       "      <td>A5</td>\n",
       "      <td>$   510,000</td>\n",
       "      <td>04/30/2019</td>\n",
       "    </tr>\n",
       "    <tr>\n",
       "      <th>23036</th>\n",
       "      <td>4</td>\n",
       "      <td>SUNNYSIDE</td>\n",
       "      <td>09 COOPS - WALKUP APARTMENTS</td>\n",
       "      <td>2</td>\n",
       "      <td>169</td>\n",
       "      <td>29</td>\n",
       "      <td>NaN</td>\n",
       "      <td>C6</td>\n",
       "      <td>45-14 43RD STREET, 3C</td>\n",
       "      <td>NaN</td>\n",
       "      <td>...</td>\n",
       "      <td>0.0</td>\n",
       "      <td>0.0</td>\n",
       "      <td>0.0</td>\n",
       "      <td>0</td>\n",
       "      <td>0.0</td>\n",
       "      <td>1929.0</td>\n",
       "      <td>2</td>\n",
       "      <td>C6</td>\n",
       "      <td>$   355,000</td>\n",
       "      <td>04/30/2019</td>\n",
       "    </tr>\n",
       "    <tr>\n",
       "      <th>23037</th>\n",
       "      <td>4</td>\n",
       "      <td>SUNNYSIDE</td>\n",
       "      <td>10 COOPS - ELEVATOR APARTMENTS</td>\n",
       "      <td>2</td>\n",
       "      <td>131</td>\n",
       "      <td>4</td>\n",
       "      <td>NaN</td>\n",
       "      <td>D4</td>\n",
       "      <td>50-05 43RD AVENUE, 3M</td>\n",
       "      <td>NaN</td>\n",
       "      <td>...</td>\n",
       "      <td>0.0</td>\n",
       "      <td>0.0</td>\n",
       "      <td>0.0</td>\n",
       "      <td>0</td>\n",
       "      <td>0.0</td>\n",
       "      <td>1932.0</td>\n",
       "      <td>2</td>\n",
       "      <td>D4</td>\n",
       "      <td>$   375,000</td>\n",
       "      <td>04/30/2019</td>\n",
       "    </tr>\n",
       "    <tr>\n",
       "      <th>23038</th>\n",
       "      <td>4</td>\n",
       "      <td>WOODHAVEN</td>\n",
       "      <td>02 TWO FAMILY DWELLINGS</td>\n",
       "      <td>1</td>\n",
       "      <td>8932</td>\n",
       "      <td>18</td>\n",
       "      <td>NaN</td>\n",
       "      <td>S2</td>\n",
       "      <td>91-10 JAMAICA AVE</td>\n",
       "      <td>NaN</td>\n",
       "      <td>...</td>\n",
       "      <td>2.0</td>\n",
       "      <td>1.0</td>\n",
       "      <td>3.0</td>\n",
       "      <td>2,078</td>\n",
       "      <td>2200.0</td>\n",
       "      <td>1931.0</td>\n",
       "      <td>1</td>\n",
       "      <td>S2</td>\n",
       "      <td>$   1,100,000</td>\n",
       "      <td>04/30/2019</td>\n",
       "    </tr>\n",
       "    <tr>\n",
       "      <th>23039</th>\n",
       "      <td>4</td>\n",
       "      <td>WOODSIDE</td>\n",
       "      <td>12 CONDOS - WALKUP APARTMENTS</td>\n",
       "      <td>2</td>\n",
       "      <td>1216</td>\n",
       "      <td>1161</td>\n",
       "      <td>NaN</td>\n",
       "      <td>R2</td>\n",
       "      <td>61-05 39TH AVENUE, F5</td>\n",
       "      <td>F5</td>\n",
       "      <td>...</td>\n",
       "      <td>1.0</td>\n",
       "      <td>0.0</td>\n",
       "      <td>85.0</td>\n",
       "      <td>15,151</td>\n",
       "      <td>854.0</td>\n",
       "      <td>1927.0</td>\n",
       "      <td>2</td>\n",
       "      <td>R2</td>\n",
       "      <td>$   569,202</td>\n",
       "      <td>04/30/2019</td>\n",
       "    </tr>\n",
       "  </tbody>\n",
       "</table>\n",
       "<p>5 rows × 21 columns</p>\n",
       "</div>"
      ],
      "text/plain": [
       "       BOROUGH NEIGHBORHOOD         BUILDING_CLASS_CATEGORY  \\\n",
       "23035        4   ST. ALBANS         01 ONE FAMILY DWELLINGS   \n",
       "23036        4    SUNNYSIDE    09 COOPS - WALKUP APARTMENTS   \n",
       "23037        4    SUNNYSIDE  10 COOPS - ELEVATOR APARTMENTS   \n",
       "23038        4    WOODHAVEN         02 TWO FAMILY DWELLINGS   \n",
       "23039        4     WOODSIDE   12 CONDOS - WALKUP APARTMENTS   \n",
       "\n",
       "      TAX_CLASS_AT_PRESENT  BLOCK   LOT  EASE-MENT BUILDING_CLASS_AT_PRESENT  \\\n",
       "23035                    1  10965   276        NaN                        A5   \n",
       "23036                    2    169    29        NaN                        C6   \n",
       "23037                    2    131     4        NaN                        D4   \n",
       "23038                    1   8932    18        NaN                        S2   \n",
       "23039                    2   1216  1161        NaN                        R2   \n",
       "\n",
       "                         ADDRESS APARTMENT_NUMBER  ...  RESIDENTIAL_UNITS  \\\n",
       "23035  111-17 FRANCIS LEWIS BLVD              NaN  ...                1.0   \n",
       "23036      45-14 43RD STREET, 3C              NaN  ...                0.0   \n",
       "23037      50-05 43RD AVENUE, 3M              NaN  ...                0.0   \n",
       "23038          91-10 JAMAICA AVE              NaN  ...                2.0   \n",
       "23039      61-05 39TH AVENUE, F5               F5  ...                1.0   \n",
       "\n",
       "       COMMERCIAL_UNITS  TOTAL_UNITS  LAND_SQUARE_FEET GROSS_SQUARE_FEET  \\\n",
       "23035               0.0          1.0             1,800            1224.0   \n",
       "23036               0.0          0.0                 0               0.0   \n",
       "23037               0.0          0.0                 0               0.0   \n",
       "23038               1.0          3.0             2,078            2200.0   \n",
       "23039               0.0         85.0            15,151             854.0   \n",
       "\n",
       "       YEAR_BUILT  TAX_CLASS_AT_TIME_OF_SALE  BUILDING_CLASS_AT_TIME_OF_SALE  \\\n",
       "23035      1945.0                          1                              A5   \n",
       "23036      1929.0                          2                              C6   \n",
       "23037      1932.0                          2                              D4   \n",
       "23038      1931.0                          1                              S2   \n",
       "23039      1927.0                          2                              R2   \n",
       "\n",
       "          SALE_PRICE   SALE_DATE  \n",
       "23035    $   510,000  04/30/2019  \n",
       "23036    $   355,000  04/30/2019  \n",
       "23037    $   375,000  04/30/2019  \n",
       "23038  $   1,100,000  04/30/2019  \n",
       "23039    $   569,202  04/30/2019  \n",
       "\n",
       "[5 rows x 21 columns]"
      ]
     },
     "metadata": {},
     "output_type": "display_data"
    }
   ],
   "source": [
    "# Change column names: replace spaces with underscores\n",
    "new_col = [x.replace(' ', '_') for x in df.columns]\n",
    "new_df = df.rename(columns = lambda x: new_col[df.columns.tolist().index(x)])\n",
    "display(new_df.shape)\n",
    "display(new_df.head())\n",
    "display(new_df.tail())"
   ]
  },
  {
   "cell_type": "code",
   "execution_count": 31,
   "metadata": {},
   "outputs": [],
   "source": [
    "# Get Pandas Profiling Report\n",
    "from pandas_profiling import ProfileReport"
   ]
  },
  {
   "cell_type": "code",
   "execution_count": 54,
   "metadata": {},
   "outputs": [
    {
     "name": "stdout",
     "output_type": "stream",
     "text": [
      "FLUSHING-NORTH               685\n",
      "UPPER EAST SIDE (59-79)      465\n",
      "UPPER EAST SIDE (79-96)      410\n",
      "BEDFORD STUYVESANT           408\n",
      "BOROUGH PARK                 376\n",
      "                            ... \n",
      "RICHMONDTOWN-LIGHTHS HILL      1\n",
      "FRESH KILLS                    1\n",
      "BRONX PARK                     1\n",
      "CITY ISLAND-PELHAM STRIP       1\n",
      "DONGAN HILLS-OLD TOWN          1\n",
      "Name: NEIGHBORHOOD, Length: 252, dtype: int64\n"
     ]
    },
    {
     "data": {
      "text/plain": [
       "(146, 21)"
      ]
     },
     "metadata": {},
     "output_type": "display_data"
    }
   ],
   "source": [
    "# Keep just the subset of data for the Tribeca neighborhood\n",
    "# Check how many rows you have now. (Should go down from > 20k rows to 146)\n",
    "print(new_df['NEIGHBORHOOD'].value_counts())\n",
    "tribeca = new_df[new_df['NEIGHBORHOOD'] == 'TRIBECA']\n",
    "display(tribeca.shape)"
   ]
  },
  {
   "cell_type": "code",
   "execution_count": 79,
   "metadata": {},
   "outputs": [
    {
     "name": "stdout",
     "output_type": "stream",
     "text": [
      "<class 'pandas.core.frame.DataFrame'>\n",
      "Int64Index: 146 entries, 220 to 22898\n",
      "Data columns (total 21 columns):\n",
      " #   Column                          Non-Null Count  Dtype  \n",
      "---  ------                          --------------  -----  \n",
      " 0   BOROUGH                         146 non-null    int64  \n",
      " 1   NEIGHBORHOOD                    146 non-null    object \n",
      " 2   BUILDING_CLASS_CATEGORY         146 non-null    object \n",
      " 3   TAX_CLASS_AT_PRESENT            146 non-null    object \n",
      " 4   BLOCK                           146 non-null    int64  \n",
      " 5   LOT                             146 non-null    int64  \n",
      " 6   EASE-MENT                       0 non-null      float64\n",
      " 7   BUILDING_CLASS_AT_PRESENT       146 non-null    object \n",
      " 8   ADDRESS                         146 non-null    object \n",
      " 9   APARTMENT_NUMBER                131 non-null    object \n",
      " 10  ZIP_CODE                        146 non-null    float64\n",
      " 11  RESIDENTIAL_UNITS               146 non-null    float64\n",
      " 12  COMMERCIAL_UNITS                146 non-null    float64\n",
      " 13  TOTAL_UNITS                     146 non-null    float64\n",
      " 14  LAND_SQUARE_FEET                146 non-null    object \n",
      " 15  GROSS_SQUARE_FEET               146 non-null    float64\n",
      " 16  YEAR_BUILT                      146 non-null    float64\n",
      " 17  TAX_CLASS_AT_TIME_OF_SALE       146 non-null    int64  \n",
      " 18  BUILDING_CLASS_AT_TIME_OF_SALE  146 non-null    object \n",
      " 19  SALE_PRICE                      146 non-null    float64\n",
      " 20  SALE_DATE                       146 non-null    object \n",
      "dtypes: float64(8), int64(4), object(9)\n",
      "memory usage: 25.1+ KB\n",
      "None\n",
      "0.0\n",
      "260000000.0\n"
     ]
    }
   ],
   "source": [
    "# Q. What's the date range of these property sales in Tribeca?\n",
    "print(tribeca.info())\n",
    "# print(tribeca['SALE_PRICE'].isna().sum())\n",
    "# tribeca['SALE_PRICE'] = tribeca['SALE_PRICE'].apply(lambda x: float(x.replace('$','').replace(',','').replace('-','')))\n",
    "print(tribeca['SALE_PRICE'].min())\n",
    "print(tribeca['SALE_PRICE'].max())"
   ]
  },
  {
   "cell_type": "code",
   "execution_count": null,
   "metadata": {},
   "outputs": [],
   "source": [
    "# The Pandas Profiling Report showed that SALE_PRICE was read as strings\n",
    "# Convert it to integers\n"
   ]
  },
  {
   "cell_type": "code",
   "execution_count": null,
   "metadata": {},
   "outputs": [],
   "source": [
    "# Q. What is the maximum SALE_PRICE in this dataset?\n"
   ]
  },
  {
   "cell_type": "code",
   "execution_count": 81,
   "metadata": {},
   "outputs": [
    {
     "data": {
      "text/html": [
       "<div>\n",
       "<style scoped>\n",
       "    .dataframe tbody tr th:only-of-type {\n",
       "        vertical-align: middle;\n",
       "    }\n",
       "\n",
       "    .dataframe tbody tr th {\n",
       "        vertical-align: top;\n",
       "    }\n",
       "\n",
       "    .dataframe thead th {\n",
       "        text-align: right;\n",
       "    }\n",
       "</style>\n",
       "<table border=\"1\" class=\"dataframe\">\n",
       "  <thead>\n",
       "    <tr style=\"text-align: right;\">\n",
       "      <th></th>\n",
       "      <th>BOROUGH</th>\n",
       "      <th>NEIGHBORHOOD</th>\n",
       "      <th>BUILDING_CLASS_CATEGORY</th>\n",
       "      <th>TAX_CLASS_AT_PRESENT</th>\n",
       "      <th>BLOCK</th>\n",
       "      <th>LOT</th>\n",
       "      <th>EASE-MENT</th>\n",
       "      <th>BUILDING_CLASS_AT_PRESENT</th>\n",
       "      <th>ADDRESS</th>\n",
       "      <th>APARTMENT_NUMBER</th>\n",
       "      <th>...</th>\n",
       "      <th>RESIDENTIAL_UNITS</th>\n",
       "      <th>COMMERCIAL_UNITS</th>\n",
       "      <th>TOTAL_UNITS</th>\n",
       "      <th>LAND_SQUARE_FEET</th>\n",
       "      <th>GROSS_SQUARE_FEET</th>\n",
       "      <th>YEAR_BUILT</th>\n",
       "      <th>TAX_CLASS_AT_TIME_OF_SALE</th>\n",
       "      <th>BUILDING_CLASS_AT_TIME_OF_SALE</th>\n",
       "      <th>SALE_PRICE</th>\n",
       "      <th>SALE_DATE</th>\n",
       "    </tr>\n",
       "  </thead>\n",
       "  <tbody>\n",
       "    <tr>\n",
       "      <th>6499</th>\n",
       "      <td>1</td>\n",
       "      <td>TRIBECA</td>\n",
       "      <td>08 RENTALS - ELEVATOR APARTMENTS</td>\n",
       "      <td>2</td>\n",
       "      <td>224</td>\n",
       "      <td>1</td>\n",
       "      <td>NaN</td>\n",
       "      <td>D8</td>\n",
       "      <td>34 DESBROSSES STREET</td>\n",
       "      <td>NaN</td>\n",
       "      <td>...</td>\n",
       "      <td>283.0</td>\n",
       "      <td>3.0</td>\n",
       "      <td>286.0</td>\n",
       "      <td>36,858</td>\n",
       "      <td>305542.0</td>\n",
       "      <td>2007.0</td>\n",
       "      <td>2</td>\n",
       "      <td>D8</td>\n",
       "      <td>260000000.0</td>\n",
       "      <td>02/01/2019</td>\n",
       "    </tr>\n",
       "  </tbody>\n",
       "</table>\n",
       "<p>1 rows × 21 columns</p>\n",
       "</div>"
      ],
      "text/plain": [
       "      BOROUGH NEIGHBORHOOD           BUILDING_CLASS_CATEGORY  \\\n",
       "6499        1      TRIBECA  08 RENTALS - ELEVATOR APARTMENTS   \n",
       "\n",
       "     TAX_CLASS_AT_PRESENT  BLOCK  LOT  EASE-MENT BUILDING_CLASS_AT_PRESENT  \\\n",
       "6499                    2    224    1        NaN                        D8   \n",
       "\n",
       "                   ADDRESS APARTMENT_NUMBER  ...  RESIDENTIAL_UNITS  \\\n",
       "6499  34 DESBROSSES STREET              NaN  ...              283.0   \n",
       "\n",
       "      COMMERCIAL_UNITS  TOTAL_UNITS  LAND_SQUARE_FEET GROSS_SQUARE_FEET  \\\n",
       "6499               3.0        286.0            36,858          305542.0   \n",
       "\n",
       "      YEAR_BUILT  TAX_CLASS_AT_TIME_OF_SALE  BUILDING_CLASS_AT_TIME_OF_SALE  \\\n",
       "6499      2007.0                          2                              D8   \n",
       "\n",
       "       SALE_PRICE   SALE_DATE  \n",
       "6499  260000000.0  02/01/2019  \n",
       "\n",
       "[1 rows x 21 columns]"
      ]
     },
     "execution_count": 81,
     "metadata": {},
     "output_type": "execute_result"
    }
   ],
   "source": [
    "# Look at the row with the max SALE_PRICE\n",
    "tribeca[tribeca['SALE_PRICE'] == 260000000.0]"
   ]
  },
  {
   "cell_type": "code",
   "execution_count": 96,
   "metadata": {},
   "outputs": [
    {
     "data": {
      "text/plain": [
       "6"
      ]
     },
     "metadata": {},
     "output_type": "display_data"
    },
    {
     "data": {
      "text/plain": [
       "1.0      131\n",
       "0.0       11\n",
       "3.0        1\n",
       "8.0        1\n",
       "286.0      1\n",
       "5.0        1\n",
       "Name: TOTAL_UNITS, dtype: int64"
      ]
     },
     "metadata": {},
     "output_type": "display_data"
    },
    {
     "data": {
      "text/html": [
       "<div>\n",
       "<style scoped>\n",
       "    .dataframe tbody tr th:only-of-type {\n",
       "        vertical-align: middle;\n",
       "    }\n",
       "\n",
       "    .dataframe tbody tr th {\n",
       "        vertical-align: top;\n",
       "    }\n",
       "\n",
       "    .dataframe thead th {\n",
       "        text-align: right;\n",
       "    }\n",
       "</style>\n",
       "<table border=\"1\" class=\"dataframe\">\n",
       "  <thead>\n",
       "    <tr style=\"text-align: right;\">\n",
       "      <th></th>\n",
       "      <th>BOROUGH</th>\n",
       "      <th>NEIGHBORHOOD</th>\n",
       "      <th>BUILDING_CLASS_CATEGORY</th>\n",
       "      <th>TAX_CLASS_AT_PRESENT</th>\n",
       "      <th>BLOCK</th>\n",
       "      <th>LOT</th>\n",
       "      <th>EASE-MENT</th>\n",
       "      <th>BUILDING_CLASS_AT_PRESENT</th>\n",
       "      <th>ADDRESS</th>\n",
       "      <th>APARTMENT_NUMBER</th>\n",
       "      <th>...</th>\n",
       "      <th>RESIDENTIAL_UNITS</th>\n",
       "      <th>COMMERCIAL_UNITS</th>\n",
       "      <th>TOTAL_UNITS</th>\n",
       "      <th>LAND_SQUARE_FEET</th>\n",
       "      <th>GROSS_SQUARE_FEET</th>\n",
       "      <th>YEAR_BUILT</th>\n",
       "      <th>TAX_CLASS_AT_TIME_OF_SALE</th>\n",
       "      <th>BUILDING_CLASS_AT_TIME_OF_SALE</th>\n",
       "      <th>SALE_PRICE</th>\n",
       "      <th>SALE_DATE</th>\n",
       "    </tr>\n",
       "  </thead>\n",
       "  <tbody>\n",
       "    <tr>\n",
       "      <th>1542</th>\n",
       "      <td>1</td>\n",
       "      <td>TRIBECA</td>\n",
       "      <td>02 TWO FAMILY DWELLINGS</td>\n",
       "      <td>1</td>\n",
       "      <td>132</td>\n",
       "      <td>26</td>\n",
       "      <td>NaN</td>\n",
       "      <td>S2</td>\n",
       "      <td>75 WARREN STREET, XX</td>\n",
       "      <td>NaN</td>\n",
       "      <td>...</td>\n",
       "      <td>2.0</td>\n",
       "      <td>1.0</td>\n",
       "      <td>3.0</td>\n",
       "      <td>1,819</td>\n",
       "      <td>10117.0</td>\n",
       "      <td>1905.0</td>\n",
       "      <td>1</td>\n",
       "      <td>S2</td>\n",
       "      <td>12950000.0</td>\n",
       "      <td>01/10/2019</td>\n",
       "    </tr>\n",
       "    <tr>\n",
       "      <th>4002</th>\n",
       "      <td>1</td>\n",
       "      <td>TRIBECA</td>\n",
       "      <td>08 RENTALS - ELEVATOR APARTMENTS</td>\n",
       "      <td>2B</td>\n",
       "      <td>143</td>\n",
       "      <td>16</td>\n",
       "      <td>NaN</td>\n",
       "      <td>D2</td>\n",
       "      <td>325 GREENWICH STREET</td>\n",
       "      <td>NaN</td>\n",
       "      <td>...</td>\n",
       "      <td>4.0</td>\n",
       "      <td>4.0</td>\n",
       "      <td>8.0</td>\n",
       "      <td>2,000</td>\n",
       "      <td>11726.0</td>\n",
       "      <td>1920.0</td>\n",
       "      <td>2</td>\n",
       "      <td>D2</td>\n",
       "      <td>7300000.0</td>\n",
       "      <td>01/23/2019</td>\n",
       "    </tr>\n",
       "    <tr>\n",
       "      <th>6499</th>\n",
       "      <td>1</td>\n",
       "      <td>TRIBECA</td>\n",
       "      <td>08 RENTALS - ELEVATOR APARTMENTS</td>\n",
       "      <td>2</td>\n",
       "      <td>224</td>\n",
       "      <td>1</td>\n",
       "      <td>NaN</td>\n",
       "      <td>D8</td>\n",
       "      <td>34 DESBROSSES STREET</td>\n",
       "      <td>NaN</td>\n",
       "      <td>...</td>\n",
       "      <td>283.0</td>\n",
       "      <td>3.0</td>\n",
       "      <td>286.0</td>\n",
       "      <td>36,858</td>\n",
       "      <td>305542.0</td>\n",
       "      <td>2007.0</td>\n",
       "      <td>2</td>\n",
       "      <td>D8</td>\n",
       "      <td>260000000.0</td>\n",
       "      <td>02/01/2019</td>\n",
       "    </tr>\n",
       "    <tr>\n",
       "      <th>8641</th>\n",
       "      <td>1</td>\n",
       "      <td>TRIBECA</td>\n",
       "      <td>07 RENTALS - WALKUP APARTMENTS</td>\n",
       "      <td>2A</td>\n",
       "      <td>193</td>\n",
       "      <td>38</td>\n",
       "      <td>NaN</td>\n",
       "      <td>C4</td>\n",
       "      <td>59 WALKER STREET</td>\n",
       "      <td>NaN</td>\n",
       "      <td>...</td>\n",
       "      <td>4.0</td>\n",
       "      <td>1.0</td>\n",
       "      <td>5.0</td>\n",
       "      <td>2,479</td>\n",
       "      <td>10311.0</td>\n",
       "      <td>1910.0</td>\n",
       "      <td>2</td>\n",
       "      <td>C4</td>\n",
       "      <td>0.0</td>\n",
       "      <td>02/13/2019</td>\n",
       "    </tr>\n",
       "  </tbody>\n",
       "</table>\n",
       "<p>4 rows × 21 columns</p>\n",
       "</div>"
      ],
      "text/plain": [
       "      BOROUGH NEIGHBORHOOD           BUILDING_CLASS_CATEGORY  \\\n",
       "1542        1      TRIBECA           02 TWO FAMILY DWELLINGS   \n",
       "4002        1      TRIBECA  08 RENTALS - ELEVATOR APARTMENTS   \n",
       "6499        1      TRIBECA  08 RENTALS - ELEVATOR APARTMENTS   \n",
       "8641        1      TRIBECA    07 RENTALS - WALKUP APARTMENTS   \n",
       "\n",
       "     TAX_CLASS_AT_PRESENT  BLOCK  LOT  EASE-MENT BUILDING_CLASS_AT_PRESENT  \\\n",
       "1542                    1    132   26        NaN                        S2   \n",
       "4002                   2B    143   16        NaN                        D2   \n",
       "6499                    2    224    1        NaN                        D8   \n",
       "8641                   2A    193   38        NaN                        C4   \n",
       "\n",
       "                   ADDRESS APARTMENT_NUMBER  ...  RESIDENTIAL_UNITS  \\\n",
       "1542  75 WARREN STREET, XX              NaN  ...                2.0   \n",
       "4002  325 GREENWICH STREET              NaN  ...                4.0   \n",
       "6499  34 DESBROSSES STREET              NaN  ...              283.0   \n",
       "8641      59 WALKER STREET              NaN  ...                4.0   \n",
       "\n",
       "      COMMERCIAL_UNITS  TOTAL_UNITS  LAND_SQUARE_FEET GROSS_SQUARE_FEET  \\\n",
       "1542               1.0          3.0             1,819           10117.0   \n",
       "4002               4.0          8.0             2,000           11726.0   \n",
       "6499               3.0        286.0            36,858          305542.0   \n",
       "8641               1.0          5.0             2,479           10311.0   \n",
       "\n",
       "      YEAR_BUILT  TAX_CLASS_AT_TIME_OF_SALE  BUILDING_CLASS_AT_TIME_OF_SALE  \\\n",
       "1542      1905.0                          1                              S2   \n",
       "4002      1920.0                          2                              D2   \n",
       "6499      2007.0                          2                              D8   \n",
       "8641      1910.0                          2                              C4   \n",
       "\n",
       "       SALE_PRICE   SALE_DATE  \n",
       "1542   12950000.0  01/10/2019  \n",
       "4002    7300000.0  01/23/2019  \n",
       "6499  260000000.0  02/01/2019  \n",
       "8641          0.0  02/13/2019  \n",
       "\n",
       "[4 rows x 21 columns]"
      ]
     },
     "execution_count": 96,
     "metadata": {},
     "output_type": "execute_result"
    }
   ],
   "source": [
    "# Get value counts of TOTAL_UNITS\n",
    "# Q. How many property sales were for multiple units?\n",
    "display(tribeca['TOTAL_UNITS'].nunique())\n",
    "display(tribeca['TOTAL_UNITS'].value_counts())\n",
    "tribeca[tribeca['TOTAL_UNITS'] >= 2]"
   ]
  },
  {
   "cell_type": "code",
   "execution_count": 97,
   "metadata": {},
   "outputs": [
    {
     "name": "stdout",
     "output_type": "stream",
     "text": [
      "(146, 21)\n",
      "(131, 21)\n"
     ]
    }
   ],
   "source": [
    "# Keep only the single units\n",
    "tribeca_1 = tribeca[tribeca['TOTAL_UNITS'] == 1]\n",
    "print(tribeca.shape)\n",
    "print(tribeca_1.shape)"
   ]
  },
  {
   "cell_type": "code",
   "execution_count": 106,
   "metadata": {},
   "outputs": [
    {
     "data": {
      "text/html": [
       "<div>\n",
       "<style scoped>\n",
       "    .dataframe tbody tr th:only-of-type {\n",
       "        vertical-align: middle;\n",
       "    }\n",
       "\n",
       "    .dataframe tbody tr th {\n",
       "        vertical-align: top;\n",
       "    }\n",
       "\n",
       "    .dataframe thead th {\n",
       "        text-align: right;\n",
       "    }\n",
       "</style>\n",
       "<table border=\"1\" class=\"dataframe\">\n",
       "  <thead>\n",
       "    <tr style=\"text-align: right;\">\n",
       "      <th></th>\n",
       "      <th>BOROUGH</th>\n",
       "      <th>NEIGHBORHOOD</th>\n",
       "      <th>BUILDING_CLASS_CATEGORY</th>\n",
       "      <th>TAX_CLASS_AT_PRESENT</th>\n",
       "      <th>BLOCK</th>\n",
       "      <th>LOT</th>\n",
       "      <th>EASE-MENT</th>\n",
       "      <th>BUILDING_CLASS_AT_PRESENT</th>\n",
       "      <th>ADDRESS</th>\n",
       "      <th>APARTMENT_NUMBER</th>\n",
       "      <th>...</th>\n",
       "      <th>RESIDENTIAL_UNITS</th>\n",
       "      <th>COMMERCIAL_UNITS</th>\n",
       "      <th>TOTAL_UNITS</th>\n",
       "      <th>LAND_SQUARE_FEET</th>\n",
       "      <th>GROSS_SQUARE_FEET</th>\n",
       "      <th>YEAR_BUILT</th>\n",
       "      <th>TAX_CLASS_AT_TIME_OF_SALE</th>\n",
       "      <th>BUILDING_CLASS_AT_TIME_OF_SALE</th>\n",
       "      <th>SALE_PRICE</th>\n",
       "      <th>SALE_DATE</th>\n",
       "    </tr>\n",
       "  </thead>\n",
       "  <tbody>\n",
       "    <tr>\n",
       "      <th>9236</th>\n",
       "      <td>1</td>\n",
       "      <td>TRIBECA</td>\n",
       "      <td>13 CONDOS - ELEVATOR APARTMENTS</td>\n",
       "      <td>2</td>\n",
       "      <td>223</td>\n",
       "      <td>1144</td>\n",
       "      <td>NaN</td>\n",
       "      <td>R4</td>\n",
       "      <td>70 VESTRY STREET, 12S</td>\n",
       "      <td>12S</td>\n",
       "      <td>...</td>\n",
       "      <td>1.0</td>\n",
       "      <td>0.0</td>\n",
       "      <td>1.0</td>\n",
       "      <td>0</td>\n",
       "      <td>8346.0</td>\n",
       "      <td>2016.0</td>\n",
       "      <td>2</td>\n",
       "      <td>R4</td>\n",
       "      <td>39285000.0</td>\n",
       "      <td>02/15/2019</td>\n",
       "    </tr>\n",
       "  </tbody>\n",
       "</table>\n",
       "<p>1 rows × 21 columns</p>\n",
       "</div>"
      ],
      "text/plain": [
       "      BOROUGH NEIGHBORHOOD          BUILDING_CLASS_CATEGORY  \\\n",
       "9236        1      TRIBECA  13 CONDOS - ELEVATOR APARTMENTS   \n",
       "\n",
       "     TAX_CLASS_AT_PRESENT  BLOCK   LOT  EASE-MENT BUILDING_CLASS_AT_PRESENT  \\\n",
       "9236                    2    223  1144        NaN                        R4   \n",
       "\n",
       "                    ADDRESS APARTMENT_NUMBER  ...  RESIDENTIAL_UNITS  \\\n",
       "9236  70 VESTRY STREET, 12S              12S  ...                1.0   \n",
       "\n",
       "      COMMERCIAL_UNITS  TOTAL_UNITS  LAND_SQUARE_FEET GROSS_SQUARE_FEET  \\\n",
       "9236               0.0          1.0                 0            8346.0   \n",
       "\n",
       "      YEAR_BUILT  TAX_CLASS_AT_TIME_OF_SALE  BUILDING_CLASS_AT_TIME_OF_SALE  \\\n",
       "9236      2016.0                          2                              R4   \n",
       "\n",
       "      SALE_PRICE   SALE_DATE  \n",
       "9236  39285000.0  02/15/2019  \n",
       "\n",
       "[1 rows x 21 columns]"
      ]
     },
     "metadata": {},
     "output_type": "display_data"
    },
    {
     "data": {
      "text/plain": [
       "9236    8346.0\n",
       "Name: GROSS_SQUARE_FEET, dtype: float64"
      ]
     },
     "metadata": {},
     "output_type": "display_data"
    },
    {
     "data": {
      "text/plain": [
       "9236    39285000.0\n",
       "Name: SALE_PRICE, dtype: float64"
      ]
     },
     "metadata": {},
     "output_type": "display_data"
    }
   ],
   "source": [
    "# Q. Now what is the max sales price? How many square feet does it have?\n",
    "tribeca_1 = tribeca_1.sort_values(by='SALE_PRICE', ascending=False)\n",
    "display(tribeca_1.head(1))\n",
    "display(tribeca_1.head(1)['GROSS_SQUARE_FEET'])\n",
    "display(tribeca_1.head(1)['SALE_PRICE'])"
   ]
  },
  {
   "cell_type": "code",
   "execution_count": 110,
   "metadata": {},
   "outputs": [
    {
     "data": {
      "text/plain": [
       "(19, 21)"
      ]
     },
     "metadata": {},
     "output_type": "display_data"
    }
   ],
   "source": [
    "# Q. How often did $0 sales occur in this subset of the data?\n",
    "\n",
    "# There's a glossary here: \n",
    "# https://www1.nyc.gov/site/finance/taxes/property-rolling-sales-data.page\n",
    "\n",
    "# It says:\n",
    "# A $0 sale indicates that there was a transfer of ownership without a \n",
    "# cash consideration. There can be a number of reasons for a $0 sale including \n",
    "# transfers of ownership from parents to children. \n",
    "display(tribeca[tribeca['SALE_PRICE'] == 0].shape)\n"
   ]
  },
  {
   "cell_type": "code",
   "execution_count": 113,
   "metadata": {},
   "outputs": [
    {
     "data": {
      "text/plain": [
       "6499    305542.0\n",
       "Name: GROSS_SQUARE_FEET, dtype: float64"
      ]
     },
     "execution_count": 113,
     "metadata": {},
     "output_type": "execute_result"
    }
   ],
   "source": [
    "# Look at property sales for > 5,000 square feet\n",
    "# Q. What is the highest square footage you see?\n",
    "tribeca.sort_values(by='GROSS_SQUARE_FEET', ascending=False).head(1)['GROSS_SQUARE_FEET']"
   ]
  },
  {
   "cell_type": "code",
   "execution_count": 118,
   "metadata": {},
   "outputs": [
    {
     "data": {
      "text/plain": [
       "13 CONDOS - ELEVATOR APARTMENTS               121\n",
       "10 COOPS - ELEVATOR APARTMENTS                  9\n",
       "15 CONDOS - 2-10 UNIT RESIDENTIAL               8\n",
       "08 RENTALS - ELEVATOR APARTMENTS                2\n",
       "17 CONDO COOPS                                  2\n",
       "02 TWO FAMILY DWELLINGS                         1\n",
       "07 RENTALS - WALKUP APARTMENTS                  1\n",
       "16 CONDOS - 2-10 UNIT WITH COMMERCIAL UNIT      1\n",
       "46 CONDO STORE BUILDINGS                        1\n",
       "Name: BUILDING_CLASS_CATEGORY, dtype: int64"
      ]
     },
     "metadata": {},
     "output_type": "display_data"
    }
   ],
   "source": [
    "# What are the building class categories?\n",
    "# How frequently does each occur?\n",
    "display(tribeca['BUILDING_CLASS_CATEGORY'].value_counts())"
   ]
  },
  {
   "cell_type": "code",
   "execution_count": 134,
   "metadata": {},
   "outputs": [
    {
     "data": {
      "text/plain": [
       "(106, 21)"
      ]
     },
     "metadata": {},
     "output_type": "display_data"
    }
   ],
   "source": [
    "# Keep subset of rows:\n",
    "# Sale price more than $0, \n",
    "# Building class category = Condos - Elevator Apartments\n",
    "\n",
    "# Check how many rows you have now. (Should be 106 rows.)\n",
    "\n",
    "tribeca_subset = tribeca[tribeca['BUILDING_CLASS_CATEGORY'] == '13 CONDOS - ELEVATOR APARTMENTS']\n",
    "tribeca_subset = tribeca_subset[tribeca_subset['SALE_PRICE'] > 0]\n",
    "display(tribeca_subset.shape)"
   ]
  },
  {
   "cell_type": "code",
   "execution_count": 138,
   "metadata": {},
   "outputs": [
    {
     "data": {
      "application/vnd.plotly.v1+json": {
       "config": {
        "plotlyServerURL": "https://plot.ly"
       },
       "data": [
        {
         "hovertemplate": "x=%{x}<br>y=%{y}<extra></extra>",
         "legendgroup": "",
         "marker": {
          "color": "#636efa",
          "symbol": "circle"
         },
         "mode": "markers",
         "name": "",
         "orientation": "v",
         "showlegend": false,
         "type": "scatter",
         "x": [
          1840,
          1759,
          2651,
          1190,
          10117,
          1088,
          873,
          2279,
          695,
          1449,
          2279,
          3227,
          2249,
          636,
          4663,
          4986,
          2436,
          11726,
          1920,
          432,
          2063,
          3208,
          0,
          0,
          868,
          2279,
          2289,
          3217,
          3500,
          0,
          0,
          748,
          2409,
          305542,
          1190,
          1061,
          860,
          2811,
          1677,
          537,
          1650,
          1666,
          4016,
          3959,
          2279,
          3844,
          1973,
          4574,
          0,
          625,
          1524,
          1054,
          1526,
          875,
          1681,
          2338,
          1850,
          1670,
          1906,
          2536,
          2965,
          2445,
          2844,
          3242,
          1906,
          2536,
          2965,
          2445,
          2609,
          2592,
          2592,
          2592,
          10311,
          0,
          1144,
          8346,
          633,
          2292,
          39567,
          2279,
          2964,
          688,
          2311,
          1900,
          0,
          1661,
          2663,
          634,
          1698,
          756,
          530,
          1061,
          695,
          2191,
          0,
          2685,
          3243,
          1669,
          0,
          2342,
          2481,
          440,
          1311,
          915,
          647,
          948,
          1676,
          39567,
          0,
          814,
          766,
          565,
          1593,
          2300,
          4702,
          1178,
          2028,
          1014,
          1359,
          3260,
          0,
          830,
          951,
          652,
          3428,
          1449,
          2311,
          704,
          1580,
          2384,
          2042,
          2386,
          638,
          1816,
          2481,
          3201,
          1096,
          2221,
          661,
          1978,
          814,
          2429,
          1601,
          634,
          939,
          695
         ],
         "xaxis": "x",
         "y": [
          2800000,
          2650000,
          0,
          1005000,
          12950000,
          1678000,
          1380000,
          6924100,
          501000,
          2400000,
          9316988,
          10200000,
          4100000,
          0,
          7200000,
          13240000,
          4900000,
          7300000,
          3870000,
          640000,
          4750000,
          11648526,
          1875000,
          2690000,
          1090000,
          4400000,
          8909688,
          12376829,
          8000000,
          2395000,
          0,
          999500,
          5350000,
          260000000,
          1250000,
          1770000,
          905000,
          6053000,
          3300000,
          0,
          3250000,
          5150000,
          12750000,
          0,
          9164250,
          6761138,
          4050000,
          10750000,
          0,
          1360000,
          2495000,
          1175000,
          2250000,
          1350000,
          0,
          0,
          3145000,
          36681561,
          36681561,
          36681561,
          36681561,
          36681561,
          36681561,
          36681561,
          36681561,
          36681561,
          36681561,
          36681561,
          36681561,
          36681561,
          36681561,
          36681561,
          0,
          2175000,
          1658000,
          39285000,
          0,
          3836438,
          9857100,
          6720000,
          15000000,
          1651544,
          0,
          3050000,
          1350000,
          3300000,
          5270000,
          858000,
          0,
          685000,
          490000,
          1754000,
          475000,
          2500000,
          3500000,
          7722000,
          12142631,
          5250000,
          0,
          3700000,
          4800000,
          630000,
          2050000,
          424770,
          496860,
          1275000,
          3000000,
          9718000,
          1850000,
          0,
          0,
          520000,
          3920263,
          4500000,
          5850000,
          0,
          3550000,
          1320000,
          1404586,
          12200000,
          2050000,
          785000,
          1175000,
          982500,
          3850000,
          0,
          3400000,
          710000,
          2700000,
          0,
          4100000,
          0,
          895000,
          3635000,
          4800000,
          12040000,
          1550000,
          4600000,
          750000,
          2700000,
          1150403,
          5761259,
          2600000,
          605000,
          960000,
          975000
         ],
         "yaxis": "y"
        },
        {
         "hovertemplate": "<b>OLS trendline</b><br>y = 817.835 * x + 5.14431e+06<br>R<sup>2</sup>=0.779516<br><br>x=%{x}<br>y=%{y} <b>(trend)</b><extra></extra>",
         "legendgroup": "",
         "marker": {
          "color": "#636efa",
          "symbol": "circle"
         },
         "mode": "lines",
         "name": "",
         "showlegend": false,
         "type": "scatter",
         "x": [
          0,
          0,
          0,
          0,
          0,
          0,
          0,
          0,
          0,
          0,
          0,
          432,
          440,
          530,
          537,
          565,
          625,
          633,
          634,
          634,
          636,
          638,
          647,
          652,
          661,
          688,
          695,
          695,
          695,
          704,
          748,
          756,
          766,
          814,
          814,
          830,
          860,
          868,
          873,
          875,
          915,
          939,
          948,
          951,
          1014,
          1054,
          1061,
          1061,
          1088,
          1096,
          1144,
          1178,
          1190,
          1190,
          1311,
          1359,
          1449,
          1449,
          1524,
          1526,
          1580,
          1593,
          1601,
          1650,
          1661,
          1666,
          1669,
          1670,
          1676,
          1677,
          1681,
          1698,
          1759,
          1816,
          1840,
          1850,
          1900,
          1906,
          1906,
          1920,
          1973,
          1978,
          2028,
          2042,
          2063,
          2191,
          2221,
          2249,
          2279,
          2279,
          2279,
          2279,
          2279,
          2289,
          2292,
          2300,
          2311,
          2311,
          2338,
          2342,
          2384,
          2386,
          2409,
          2429,
          2436,
          2445,
          2445,
          2481,
          2481,
          2536,
          2536,
          2592,
          2592,
          2592,
          2609,
          2651,
          2663,
          2685,
          2811,
          2844,
          2964,
          2965,
          2965,
          3201,
          3208,
          3217,
          3227,
          3242,
          3243,
          3260,
          3428,
          3500,
          3844,
          3959,
          4016,
          4574,
          4663,
          4702,
          4986,
          8346,
          10117,
          10311,
          11726,
          39567,
          39567,
          305542
         ],
         "xaxis": "x",
         "y": [
          5144313.863182409,
          5144313.863182409,
          5144313.863182409,
          5144313.863182409,
          5144313.863182409,
          5144313.863182409,
          5144313.863182409,
          5144313.863182409,
          5144313.863182409,
          5144313.863182409,
          5144313.863182409,
          5497618.770685556,
          5504161.454157837,
          5577766.643220992,
          5583491.491259238,
          5606390.88341222,
          5655461.009454323,
          5662003.692926603,
          5662821.528360639,
          5662821.528360639,
          5664457.199228709,
          5666092.8700967785,
          5673453.389003094,
          5677542.56617327,
          5684903.085079585,
          5706984.641798532,
          5712709.489836778,
          5712709.489836778,
          5712709.489836778,
          5720070.008743093,
          5756054.767840636,
          5762597.451312916,
          5770775.805653267,
          5810031.90648695,
          5810031.90648695,
          5823117.273431511,
          5847652.336452563,
          5854195.019924844,
          5858284.197095019,
          5859919.867963089,
          5892633.285324492,
          5912261.335741333,
          5919621.8546476485,
          5922075.360949754,
          5973598.993293962,
          6006312.410655365,
          6012037.25869361,
          6012037.25869361,
          6034118.815412558,
          6040661.498884838,
          6079917.59971852,
          6107724.004475713,
          6117538.029684134,
          6117538.029684134,
          6216496.117202377,
          6255752.218036059,
          6329357.407099215,
          6329357.407099215,
          6390695.064651845,
          6392330.735519915,
          6436493.848957809,
          6447125.709600264,
          6453668.393072545,
          6493742.329340262,
          6502738.519114649,
          6506827.696284824,
          6509281.202586928,
          6510099.038020964,
          6515006.050625174,
          6515823.88605921,
          6519095.227795349,
          6532998.430173946,
          6582886.391650084,
          6629503.0113900835,
          6649131.061806925,
          6657309.416147275,
          6698201.187849028,
          6703108.200453239,
          6703108.200453239,
          6714557.8965297295,
          6757903.174533588,
          6761992.351703763,
          6802884.123405516,
          6814333.819482008,
          6831508.363596744,
          6936191.299153232,
          6960726.362174284,
          6983625.754327266,
          7008160.817348317,
          7008160.817348317,
          7008160.817348317,
          7008160.817348317,
          7008160.817348317,
          7016339.171688668,
          7018792.677990774,
          7025335.361463053,
          7034331.55123744,
          7034331.55123744,
          7056413.107956386,
          7059684.449692527,
          7094033.537921999,
          7095669.208790069,
          7114479.423772875,
          7130836.132453577,
          7136560.980491823,
          7143921.499398138,
          7143921.499398138,
          7173363.5750234,
          7173363.5750234,
          7218344.523895329,
          7218344.523895329,
          7264143.3082012925,
          7264143.3082012925,
          7264143.3082012925,
          7278046.510579888,
          7312395.598809361,
          7322209.624017782,
          7340202.003566553,
          7443249.268254971,
          7470237.837578128,
          7568378.089662336,
          7569195.92509637,
          7569195.92509637,
          7762205.087528646,
          7767929.935566891,
          7775290.454473207,
          7783468.808813557,
          7795736.340324083,
          7796554.175758118,
          7810457.378136714,
          7947853.731054605,
          8006737.882305129,
          8288073.271613191,
          8382124.3465272235,
          8428740.966267223,
          8885093.138458787,
          8957880.492087908,
          8989776.074015275,
          9222041.337281233,
          11969968.395639045,
          13418354.949315142,
          13577015.023517944,
          14734252.162677558,
          37503608.481647745,
          37503608.481647745,
          255027388.04912362
         ],
         "yaxis": "y"
        }
       ],
       "layout": {
        "legend": {
         "tracegroupgap": 0
        },
        "margin": {
         "t": 60
        },
        "template": {
         "data": {
          "bar": [
           {
            "error_x": {
             "color": "#2a3f5f"
            },
            "error_y": {
             "color": "#2a3f5f"
            },
            "marker": {
             "line": {
              "color": "#E5ECF6",
              "width": 0.5
             },
             "pattern": {
              "fillmode": "overlay",
              "size": 10,
              "solidity": 0.2
             }
            },
            "type": "bar"
           }
          ],
          "barpolar": [
           {
            "marker": {
             "line": {
              "color": "#E5ECF6",
              "width": 0.5
             },
             "pattern": {
              "fillmode": "overlay",
              "size": 10,
              "solidity": 0.2
             }
            },
            "type": "barpolar"
           }
          ],
          "carpet": [
           {
            "aaxis": {
             "endlinecolor": "#2a3f5f",
             "gridcolor": "white",
             "linecolor": "white",
             "minorgridcolor": "white",
             "startlinecolor": "#2a3f5f"
            },
            "baxis": {
             "endlinecolor": "#2a3f5f",
             "gridcolor": "white",
             "linecolor": "white",
             "minorgridcolor": "white",
             "startlinecolor": "#2a3f5f"
            },
            "type": "carpet"
           }
          ],
          "choropleth": [
           {
            "colorbar": {
             "outlinewidth": 0,
             "ticks": ""
            },
            "type": "choropleth"
           }
          ],
          "contour": [
           {
            "colorbar": {
             "outlinewidth": 0,
             "ticks": ""
            },
            "colorscale": [
             [
              0,
              "#0d0887"
             ],
             [
              0.1111111111111111,
              "#46039f"
             ],
             [
              0.2222222222222222,
              "#7201a8"
             ],
             [
              0.3333333333333333,
              "#9c179e"
             ],
             [
              0.4444444444444444,
              "#bd3786"
             ],
             [
              0.5555555555555556,
              "#d8576b"
             ],
             [
              0.6666666666666666,
              "#ed7953"
             ],
             [
              0.7777777777777778,
              "#fb9f3a"
             ],
             [
              0.8888888888888888,
              "#fdca26"
             ],
             [
              1,
              "#f0f921"
             ]
            ],
            "type": "contour"
           }
          ],
          "contourcarpet": [
           {
            "colorbar": {
             "outlinewidth": 0,
             "ticks": ""
            },
            "type": "contourcarpet"
           }
          ],
          "heatmap": [
           {
            "colorbar": {
             "outlinewidth": 0,
             "ticks": ""
            },
            "colorscale": [
             [
              0,
              "#0d0887"
             ],
             [
              0.1111111111111111,
              "#46039f"
             ],
             [
              0.2222222222222222,
              "#7201a8"
             ],
             [
              0.3333333333333333,
              "#9c179e"
             ],
             [
              0.4444444444444444,
              "#bd3786"
             ],
             [
              0.5555555555555556,
              "#d8576b"
             ],
             [
              0.6666666666666666,
              "#ed7953"
             ],
             [
              0.7777777777777778,
              "#fb9f3a"
             ],
             [
              0.8888888888888888,
              "#fdca26"
             ],
             [
              1,
              "#f0f921"
             ]
            ],
            "type": "heatmap"
           }
          ],
          "heatmapgl": [
           {
            "colorbar": {
             "outlinewidth": 0,
             "ticks": ""
            },
            "colorscale": [
             [
              0,
              "#0d0887"
             ],
             [
              0.1111111111111111,
              "#46039f"
             ],
             [
              0.2222222222222222,
              "#7201a8"
             ],
             [
              0.3333333333333333,
              "#9c179e"
             ],
             [
              0.4444444444444444,
              "#bd3786"
             ],
             [
              0.5555555555555556,
              "#d8576b"
             ],
             [
              0.6666666666666666,
              "#ed7953"
             ],
             [
              0.7777777777777778,
              "#fb9f3a"
             ],
             [
              0.8888888888888888,
              "#fdca26"
             ],
             [
              1,
              "#f0f921"
             ]
            ],
            "type": "heatmapgl"
           }
          ],
          "histogram": [
           {
            "marker": {
             "pattern": {
              "fillmode": "overlay",
              "size": 10,
              "solidity": 0.2
             }
            },
            "type": "histogram"
           }
          ],
          "histogram2d": [
           {
            "colorbar": {
             "outlinewidth": 0,
             "ticks": ""
            },
            "colorscale": [
             [
              0,
              "#0d0887"
             ],
             [
              0.1111111111111111,
              "#46039f"
             ],
             [
              0.2222222222222222,
              "#7201a8"
             ],
             [
              0.3333333333333333,
              "#9c179e"
             ],
             [
              0.4444444444444444,
              "#bd3786"
             ],
             [
              0.5555555555555556,
              "#d8576b"
             ],
             [
              0.6666666666666666,
              "#ed7953"
             ],
             [
              0.7777777777777778,
              "#fb9f3a"
             ],
             [
              0.8888888888888888,
              "#fdca26"
             ],
             [
              1,
              "#f0f921"
             ]
            ],
            "type": "histogram2d"
           }
          ],
          "histogram2dcontour": [
           {
            "colorbar": {
             "outlinewidth": 0,
             "ticks": ""
            },
            "colorscale": [
             [
              0,
              "#0d0887"
             ],
             [
              0.1111111111111111,
              "#46039f"
             ],
             [
              0.2222222222222222,
              "#7201a8"
             ],
             [
              0.3333333333333333,
              "#9c179e"
             ],
             [
              0.4444444444444444,
              "#bd3786"
             ],
             [
              0.5555555555555556,
              "#d8576b"
             ],
             [
              0.6666666666666666,
              "#ed7953"
             ],
             [
              0.7777777777777778,
              "#fb9f3a"
             ],
             [
              0.8888888888888888,
              "#fdca26"
             ],
             [
              1,
              "#f0f921"
             ]
            ],
            "type": "histogram2dcontour"
           }
          ],
          "mesh3d": [
           {
            "colorbar": {
             "outlinewidth": 0,
             "ticks": ""
            },
            "type": "mesh3d"
           }
          ],
          "parcoords": [
           {
            "line": {
             "colorbar": {
              "outlinewidth": 0,
              "ticks": ""
             }
            },
            "type": "parcoords"
           }
          ],
          "pie": [
           {
            "automargin": true,
            "type": "pie"
           }
          ],
          "scatter": [
           {
            "marker": {
             "colorbar": {
              "outlinewidth": 0,
              "ticks": ""
             }
            },
            "type": "scatter"
           }
          ],
          "scatter3d": [
           {
            "line": {
             "colorbar": {
              "outlinewidth": 0,
              "ticks": ""
             }
            },
            "marker": {
             "colorbar": {
              "outlinewidth": 0,
              "ticks": ""
             }
            },
            "type": "scatter3d"
           }
          ],
          "scattercarpet": [
           {
            "marker": {
             "colorbar": {
              "outlinewidth": 0,
              "ticks": ""
             }
            },
            "type": "scattercarpet"
           }
          ],
          "scattergeo": [
           {
            "marker": {
             "colorbar": {
              "outlinewidth": 0,
              "ticks": ""
             }
            },
            "type": "scattergeo"
           }
          ],
          "scattergl": [
           {
            "marker": {
             "colorbar": {
              "outlinewidth": 0,
              "ticks": ""
             }
            },
            "type": "scattergl"
           }
          ],
          "scattermapbox": [
           {
            "marker": {
             "colorbar": {
              "outlinewidth": 0,
              "ticks": ""
             }
            },
            "type": "scattermapbox"
           }
          ],
          "scatterpolar": [
           {
            "marker": {
             "colorbar": {
              "outlinewidth": 0,
              "ticks": ""
             }
            },
            "type": "scatterpolar"
           }
          ],
          "scatterpolargl": [
           {
            "marker": {
             "colorbar": {
              "outlinewidth": 0,
              "ticks": ""
             }
            },
            "type": "scatterpolargl"
           }
          ],
          "scatterternary": [
           {
            "marker": {
             "colorbar": {
              "outlinewidth": 0,
              "ticks": ""
             }
            },
            "type": "scatterternary"
           }
          ],
          "surface": [
           {
            "colorbar": {
             "outlinewidth": 0,
             "ticks": ""
            },
            "colorscale": [
             [
              0,
              "#0d0887"
             ],
             [
              0.1111111111111111,
              "#46039f"
             ],
             [
              0.2222222222222222,
              "#7201a8"
             ],
             [
              0.3333333333333333,
              "#9c179e"
             ],
             [
              0.4444444444444444,
              "#bd3786"
             ],
             [
              0.5555555555555556,
              "#d8576b"
             ],
             [
              0.6666666666666666,
              "#ed7953"
             ],
             [
              0.7777777777777778,
              "#fb9f3a"
             ],
             [
              0.8888888888888888,
              "#fdca26"
             ],
             [
              1,
              "#f0f921"
             ]
            ],
            "type": "surface"
           }
          ],
          "table": [
           {
            "cells": {
             "fill": {
              "color": "#EBF0F8"
             },
             "line": {
              "color": "white"
             }
            },
            "header": {
             "fill": {
              "color": "#C8D4E3"
             },
             "line": {
              "color": "white"
             }
            },
            "type": "table"
           }
          ]
         },
         "layout": {
          "annotationdefaults": {
           "arrowcolor": "#2a3f5f",
           "arrowhead": 0,
           "arrowwidth": 1
          },
          "autotypenumbers": "strict",
          "coloraxis": {
           "colorbar": {
            "outlinewidth": 0,
            "ticks": ""
           }
          },
          "colorscale": {
           "diverging": [
            [
             0,
             "#8e0152"
            ],
            [
             0.1,
             "#c51b7d"
            ],
            [
             0.2,
             "#de77ae"
            ],
            [
             0.3,
             "#f1b6da"
            ],
            [
             0.4,
             "#fde0ef"
            ],
            [
             0.5,
             "#f7f7f7"
            ],
            [
             0.6,
             "#e6f5d0"
            ],
            [
             0.7,
             "#b8e186"
            ],
            [
             0.8,
             "#7fbc41"
            ],
            [
             0.9,
             "#4d9221"
            ],
            [
             1,
             "#276419"
            ]
           ],
           "sequential": [
            [
             0,
             "#0d0887"
            ],
            [
             0.1111111111111111,
             "#46039f"
            ],
            [
             0.2222222222222222,
             "#7201a8"
            ],
            [
             0.3333333333333333,
             "#9c179e"
            ],
            [
             0.4444444444444444,
             "#bd3786"
            ],
            [
             0.5555555555555556,
             "#d8576b"
            ],
            [
             0.6666666666666666,
             "#ed7953"
            ],
            [
             0.7777777777777778,
             "#fb9f3a"
            ],
            [
             0.8888888888888888,
             "#fdca26"
            ],
            [
             1,
             "#f0f921"
            ]
           ],
           "sequentialminus": [
            [
             0,
             "#0d0887"
            ],
            [
             0.1111111111111111,
             "#46039f"
            ],
            [
             0.2222222222222222,
             "#7201a8"
            ],
            [
             0.3333333333333333,
             "#9c179e"
            ],
            [
             0.4444444444444444,
             "#bd3786"
            ],
            [
             0.5555555555555556,
             "#d8576b"
            ],
            [
             0.6666666666666666,
             "#ed7953"
            ],
            [
             0.7777777777777778,
             "#fb9f3a"
            ],
            [
             0.8888888888888888,
             "#fdca26"
            ],
            [
             1,
             "#f0f921"
            ]
           ]
          },
          "colorway": [
           "#636efa",
           "#EF553B",
           "#00cc96",
           "#ab63fa",
           "#FFA15A",
           "#19d3f3",
           "#FF6692",
           "#B6E880",
           "#FF97FF",
           "#FECB52"
          ],
          "font": {
           "color": "#2a3f5f"
          },
          "geo": {
           "bgcolor": "white",
           "lakecolor": "white",
           "landcolor": "#E5ECF6",
           "showlakes": true,
           "showland": true,
           "subunitcolor": "white"
          },
          "hoverlabel": {
           "align": "left"
          },
          "hovermode": "closest",
          "mapbox": {
           "style": "light"
          },
          "paper_bgcolor": "white",
          "plot_bgcolor": "#E5ECF6",
          "polar": {
           "angularaxis": {
            "gridcolor": "white",
            "linecolor": "white",
            "ticks": ""
           },
           "bgcolor": "#E5ECF6",
           "radialaxis": {
            "gridcolor": "white",
            "linecolor": "white",
            "ticks": ""
           }
          },
          "scene": {
           "xaxis": {
            "backgroundcolor": "#E5ECF6",
            "gridcolor": "white",
            "gridwidth": 2,
            "linecolor": "white",
            "showbackground": true,
            "ticks": "",
            "zerolinecolor": "white"
           },
           "yaxis": {
            "backgroundcolor": "#E5ECF6",
            "gridcolor": "white",
            "gridwidth": 2,
            "linecolor": "white",
            "showbackground": true,
            "ticks": "",
            "zerolinecolor": "white"
           },
           "zaxis": {
            "backgroundcolor": "#E5ECF6",
            "gridcolor": "white",
            "gridwidth": 2,
            "linecolor": "white",
            "showbackground": true,
            "ticks": "",
            "zerolinecolor": "white"
           }
          },
          "shapedefaults": {
           "line": {
            "color": "#2a3f5f"
           }
          },
          "ternary": {
           "aaxis": {
            "gridcolor": "white",
            "linecolor": "white",
            "ticks": ""
           },
           "baxis": {
            "gridcolor": "white",
            "linecolor": "white",
            "ticks": ""
           },
           "bgcolor": "#E5ECF6",
           "caxis": {
            "gridcolor": "white",
            "linecolor": "white",
            "ticks": ""
           }
          },
          "title": {
           "x": 0.05
          },
          "xaxis": {
           "automargin": true,
           "gridcolor": "white",
           "linecolor": "white",
           "ticks": "",
           "title": {
            "standoff": 15
           },
           "zerolinecolor": "white",
           "zerolinewidth": 2
          },
          "yaxis": {
           "automargin": true,
           "gridcolor": "white",
           "linecolor": "white",
           "ticks": "",
           "title": {
            "standoff": 15
           },
           "zerolinecolor": "white",
           "zerolinewidth": 2
          }
         }
        },
        "xaxis": {
         "anchor": "y",
         "domain": [
          0,
          1
         ],
         "title": {
          "text": "x"
         }
        },
        "yaxis": {
         "anchor": "x",
         "domain": [
          0,
          1
         ],
         "title": {
          "text": "y"
         }
        }
       }
      },
      "text/html": [
       "<div>                            <div id=\"cc19a86f-eb93-467d-b03b-19c519f7ddc1\" class=\"plotly-graph-div\" style=\"height:525px; width:100%;\"></div>            <script type=\"text/javascript\">                require([\"plotly\"], function(Plotly) {                    window.PLOTLYENV=window.PLOTLYENV || {};                                    if (document.getElementById(\"cc19a86f-eb93-467d-b03b-19c519f7ddc1\")) {                    Plotly.newPlot(                        \"cc19a86f-eb93-467d-b03b-19c519f7ddc1\",                        [{\"hovertemplate\":\"x=%{x}<br>y=%{y}<extra></extra>\",\"legendgroup\":\"\",\"marker\":{\"color\":\"#636efa\",\"symbol\":\"circle\"},\"mode\":\"markers\",\"name\":\"\",\"orientation\":\"v\",\"showlegend\":false,\"type\":\"scatter\",\"x\":[1840.0,1759.0,2651.0,1190.0,10117.0,1088.0,873.0,2279.0,695.0,1449.0,2279.0,3227.0,2249.0,636.0,4663.0,4986.0,2436.0,11726.0,1920.0,432.0,2063.0,3208.0,0.0,0.0,868.0,2279.0,2289.0,3217.0,3500.0,0.0,0.0,748.0,2409.0,305542.0,1190.0,1061.0,860.0,2811.0,1677.0,537.0,1650.0,1666.0,4016.0,3959.0,2279.0,3844.0,1973.0,4574.0,0.0,625.0,1524.0,1054.0,1526.0,875.0,1681.0,2338.0,1850.0,1670.0,1906.0,2536.0,2965.0,2445.0,2844.0,3242.0,1906.0,2536.0,2965.0,2445.0,2609.0,2592.0,2592.0,2592.0,10311.0,0.0,1144.0,8346.0,633.0,2292.0,39567.0,2279.0,2964.0,688.0,2311.0,1900.0,0.0,1661.0,2663.0,634.0,1698.0,756.0,530.0,1061.0,695.0,2191.0,0.0,2685.0,3243.0,1669.0,0.0,2342.0,2481.0,440.0,1311.0,915.0,647.0,948.0,1676.0,39567.0,0.0,814.0,766.0,565.0,1593.0,2300.0,4702.0,1178.0,2028.0,1014.0,1359.0,3260.0,0.0,830.0,951.0,652.0,3428.0,1449.0,2311.0,704.0,1580.0,2384.0,2042.0,2386.0,638.0,1816.0,2481.0,3201.0,1096.0,2221.0,661.0,1978.0,814.0,2429.0,1601.0,634.0,939.0,695.0],\"xaxis\":\"x\",\"y\":[2800000.0,2650000.0,0.0,1005000.0,12950000.0,1678000.0,1380000.0,6924100.0,501000.0,2400000.0,9316988.0,10200000.0,4100000.0,0.0,7200000.0,13240000.0,4900000.0,7300000.0,3870000.0,640000.0,4750000.0,11648526.0,1875000.0,2690000.0,1090000.0,4400000.0,8909688.0,12376829.0,8000000.0,2395000.0,0.0,999500.0,5350000.0,260000000.0,1250000.0,1770000.0,905000.0,6053000.0,3300000.0,0.0,3250000.0,5150000.0,12750000.0,0.0,9164250.0,6761138.0,4050000.0,10750000.0,0.0,1360000.0,2495000.0,1175000.0,2250000.0,1350000.0,0.0,0.0,3145000.0,36681561.0,36681561.0,36681561.0,36681561.0,36681561.0,36681561.0,36681561.0,36681561.0,36681561.0,36681561.0,36681561.0,36681561.0,36681561.0,36681561.0,36681561.0,0.0,2175000.0,1658000.0,39285000.0,0.0,3836438.0,9857100.0,6720000.0,15000000.0,1651544.0,0.0,3050000.0,1350000.0,3300000.0,5270000.0,858000.0,0.0,685000.0,490000.0,1754000.0,475000.0,2500000.0,3500000.0,7722000.0,12142631.0,5250000.0,0.0,3700000.0,4800000.0,630000.0,2050000.0,424770.0,496860.0,1275000.0,3000000.0,9718000.0,1850000.0,0.0,0.0,520000.0,3920263.0,4500000.0,5850000.0,0.0,3550000.0,1320000.0,1404586.0,12200000.0,2050000.0,785000.0,1175000.0,982500.0,3850000.0,0.0,3400000.0,710000.0,2700000.0,0.0,4100000.0,0.0,895000.0,3635000.0,4800000.0,12040000.0,1550000.0,4600000.0,750000.0,2700000.0,1150403.0,5761259.0,2600000.0,605000.0,960000.0,975000.0],\"yaxis\":\"y\"},{\"hovertemplate\":\"<b>OLS trendline</b><br>y = 817.835 * x + 5.14431e+06<br>R<sup>2</sup>=0.779516<br><br>x=%{x}<br>y=%{y} <b>(trend)</b><extra></extra>\",\"legendgroup\":\"\",\"marker\":{\"color\":\"#636efa\",\"symbol\":\"circle\"},\"mode\":\"lines\",\"name\":\"\",\"showlegend\":false,\"type\":\"scatter\",\"x\":[0.0,0.0,0.0,0.0,0.0,0.0,0.0,0.0,0.0,0.0,0.0,432.0,440.0,530.0,537.0,565.0,625.0,633.0,634.0,634.0,636.0,638.0,647.0,652.0,661.0,688.0,695.0,695.0,695.0,704.0,748.0,756.0,766.0,814.0,814.0,830.0,860.0,868.0,873.0,875.0,915.0,939.0,948.0,951.0,1014.0,1054.0,1061.0,1061.0,1088.0,1096.0,1144.0,1178.0,1190.0,1190.0,1311.0,1359.0,1449.0,1449.0,1524.0,1526.0,1580.0,1593.0,1601.0,1650.0,1661.0,1666.0,1669.0,1670.0,1676.0,1677.0,1681.0,1698.0,1759.0,1816.0,1840.0,1850.0,1900.0,1906.0,1906.0,1920.0,1973.0,1978.0,2028.0,2042.0,2063.0,2191.0,2221.0,2249.0,2279.0,2279.0,2279.0,2279.0,2279.0,2289.0,2292.0,2300.0,2311.0,2311.0,2338.0,2342.0,2384.0,2386.0,2409.0,2429.0,2436.0,2445.0,2445.0,2481.0,2481.0,2536.0,2536.0,2592.0,2592.0,2592.0,2609.0,2651.0,2663.0,2685.0,2811.0,2844.0,2964.0,2965.0,2965.0,3201.0,3208.0,3217.0,3227.0,3242.0,3243.0,3260.0,3428.0,3500.0,3844.0,3959.0,4016.0,4574.0,4663.0,4702.0,4986.0,8346.0,10117.0,10311.0,11726.0,39567.0,39567.0,305542.0],\"xaxis\":\"x\",\"y\":[5144313.863182409,5144313.863182409,5144313.863182409,5144313.863182409,5144313.863182409,5144313.863182409,5144313.863182409,5144313.863182409,5144313.863182409,5144313.863182409,5144313.863182409,5497618.770685556,5504161.454157837,5577766.643220992,5583491.491259238,5606390.88341222,5655461.009454323,5662003.692926603,5662821.528360639,5662821.528360639,5664457.199228709,5666092.8700967785,5673453.389003094,5677542.56617327,5684903.085079585,5706984.641798532,5712709.489836778,5712709.489836778,5712709.489836778,5720070.008743093,5756054.767840636,5762597.451312916,5770775.805653267,5810031.90648695,5810031.90648695,5823117.273431511,5847652.336452563,5854195.019924844,5858284.197095019,5859919.867963089,5892633.285324492,5912261.335741333,5919621.8546476485,5922075.360949754,5973598.993293962,6006312.410655365,6012037.25869361,6012037.25869361,6034118.815412558,6040661.498884838,6079917.59971852,6107724.004475713,6117538.029684134,6117538.029684134,6216496.117202377,6255752.218036059,6329357.407099215,6329357.407099215,6390695.064651845,6392330.735519915,6436493.848957809,6447125.709600264,6453668.393072545,6493742.329340262,6502738.519114649,6506827.696284824,6509281.202586928,6510099.038020964,6515006.050625174,6515823.88605921,6519095.227795349,6532998.430173946,6582886.391650084,6629503.0113900835,6649131.061806925,6657309.416147275,6698201.187849028,6703108.200453239,6703108.200453239,6714557.8965297295,6757903.174533588,6761992.351703763,6802884.123405516,6814333.819482008,6831508.363596744,6936191.299153232,6960726.362174284,6983625.754327266,7008160.817348317,7008160.817348317,7008160.817348317,7008160.817348317,7008160.817348317,7016339.171688668,7018792.677990774,7025335.361463053,7034331.55123744,7034331.55123744,7056413.107956386,7059684.449692527,7094033.537921999,7095669.208790069,7114479.423772875,7130836.132453577,7136560.980491823,7143921.499398138,7143921.499398138,7173363.5750234,7173363.5750234,7218344.523895329,7218344.523895329,7264143.3082012925,7264143.3082012925,7264143.3082012925,7278046.510579888,7312395.598809361,7322209.624017782,7340202.003566553,7443249.268254971,7470237.837578128,7568378.089662336,7569195.92509637,7569195.92509637,7762205.087528646,7767929.935566891,7775290.454473207,7783468.808813557,7795736.340324083,7796554.175758118,7810457.378136714,7947853.731054605,8006737.882305129,8288073.271613191,8382124.3465272235,8428740.966267223,8885093.138458787,8957880.492087908,8989776.074015275,9222041.337281233,11969968.395639045,13418354.949315142,13577015.023517944,14734252.162677558,37503608.481647745,37503608.481647745,255027388.04912362],\"yaxis\":\"y\"}],                        {\"legend\":{\"tracegroupgap\":0},\"margin\":{\"t\":60},\"template\":{\"data\":{\"bar\":[{\"error_x\":{\"color\":\"#2a3f5f\"},\"error_y\":{\"color\":\"#2a3f5f\"},\"marker\":{\"line\":{\"color\":\"#E5ECF6\",\"width\":0.5},\"pattern\":{\"fillmode\":\"overlay\",\"size\":10,\"solidity\":0.2}},\"type\":\"bar\"}],\"barpolar\":[{\"marker\":{\"line\":{\"color\":\"#E5ECF6\",\"width\":0.5},\"pattern\":{\"fillmode\":\"overlay\",\"size\":10,\"solidity\":0.2}},\"type\":\"barpolar\"}],\"carpet\":[{\"aaxis\":{\"endlinecolor\":\"#2a3f5f\",\"gridcolor\":\"white\",\"linecolor\":\"white\",\"minorgridcolor\":\"white\",\"startlinecolor\":\"#2a3f5f\"},\"baxis\":{\"endlinecolor\":\"#2a3f5f\",\"gridcolor\":\"white\",\"linecolor\":\"white\",\"minorgridcolor\":\"white\",\"startlinecolor\":\"#2a3f5f\"},\"type\":\"carpet\"}],\"choropleth\":[{\"colorbar\":{\"outlinewidth\":0,\"ticks\":\"\"},\"type\":\"choropleth\"}],\"contour\":[{\"colorbar\":{\"outlinewidth\":0,\"ticks\":\"\"},\"colorscale\":[[0.0,\"#0d0887\"],[0.1111111111111111,\"#46039f\"],[0.2222222222222222,\"#7201a8\"],[0.3333333333333333,\"#9c179e\"],[0.4444444444444444,\"#bd3786\"],[0.5555555555555556,\"#d8576b\"],[0.6666666666666666,\"#ed7953\"],[0.7777777777777778,\"#fb9f3a\"],[0.8888888888888888,\"#fdca26\"],[1.0,\"#f0f921\"]],\"type\":\"contour\"}],\"contourcarpet\":[{\"colorbar\":{\"outlinewidth\":0,\"ticks\":\"\"},\"type\":\"contourcarpet\"}],\"heatmap\":[{\"colorbar\":{\"outlinewidth\":0,\"ticks\":\"\"},\"colorscale\":[[0.0,\"#0d0887\"],[0.1111111111111111,\"#46039f\"],[0.2222222222222222,\"#7201a8\"],[0.3333333333333333,\"#9c179e\"],[0.4444444444444444,\"#bd3786\"],[0.5555555555555556,\"#d8576b\"],[0.6666666666666666,\"#ed7953\"],[0.7777777777777778,\"#fb9f3a\"],[0.8888888888888888,\"#fdca26\"],[1.0,\"#f0f921\"]],\"type\":\"heatmap\"}],\"heatmapgl\":[{\"colorbar\":{\"outlinewidth\":0,\"ticks\":\"\"},\"colorscale\":[[0.0,\"#0d0887\"],[0.1111111111111111,\"#46039f\"],[0.2222222222222222,\"#7201a8\"],[0.3333333333333333,\"#9c179e\"],[0.4444444444444444,\"#bd3786\"],[0.5555555555555556,\"#d8576b\"],[0.6666666666666666,\"#ed7953\"],[0.7777777777777778,\"#fb9f3a\"],[0.8888888888888888,\"#fdca26\"],[1.0,\"#f0f921\"]],\"type\":\"heatmapgl\"}],\"histogram\":[{\"marker\":{\"pattern\":{\"fillmode\":\"overlay\",\"size\":10,\"solidity\":0.2}},\"type\":\"histogram\"}],\"histogram2d\":[{\"colorbar\":{\"outlinewidth\":0,\"ticks\":\"\"},\"colorscale\":[[0.0,\"#0d0887\"],[0.1111111111111111,\"#46039f\"],[0.2222222222222222,\"#7201a8\"],[0.3333333333333333,\"#9c179e\"],[0.4444444444444444,\"#bd3786\"],[0.5555555555555556,\"#d8576b\"],[0.6666666666666666,\"#ed7953\"],[0.7777777777777778,\"#fb9f3a\"],[0.8888888888888888,\"#fdca26\"],[1.0,\"#f0f921\"]],\"type\":\"histogram2d\"}],\"histogram2dcontour\":[{\"colorbar\":{\"outlinewidth\":0,\"ticks\":\"\"},\"colorscale\":[[0.0,\"#0d0887\"],[0.1111111111111111,\"#46039f\"],[0.2222222222222222,\"#7201a8\"],[0.3333333333333333,\"#9c179e\"],[0.4444444444444444,\"#bd3786\"],[0.5555555555555556,\"#d8576b\"],[0.6666666666666666,\"#ed7953\"],[0.7777777777777778,\"#fb9f3a\"],[0.8888888888888888,\"#fdca26\"],[1.0,\"#f0f921\"]],\"type\":\"histogram2dcontour\"}],\"mesh3d\":[{\"colorbar\":{\"outlinewidth\":0,\"ticks\":\"\"},\"type\":\"mesh3d\"}],\"parcoords\":[{\"line\":{\"colorbar\":{\"outlinewidth\":0,\"ticks\":\"\"}},\"type\":\"parcoords\"}],\"pie\":[{\"automargin\":true,\"type\":\"pie\"}],\"scatter\":[{\"marker\":{\"colorbar\":{\"outlinewidth\":0,\"ticks\":\"\"}},\"type\":\"scatter\"}],\"scatter3d\":[{\"line\":{\"colorbar\":{\"outlinewidth\":0,\"ticks\":\"\"}},\"marker\":{\"colorbar\":{\"outlinewidth\":0,\"ticks\":\"\"}},\"type\":\"scatter3d\"}],\"scattercarpet\":[{\"marker\":{\"colorbar\":{\"outlinewidth\":0,\"ticks\":\"\"}},\"type\":\"scattercarpet\"}],\"scattergeo\":[{\"marker\":{\"colorbar\":{\"outlinewidth\":0,\"ticks\":\"\"}},\"type\":\"scattergeo\"}],\"scattergl\":[{\"marker\":{\"colorbar\":{\"outlinewidth\":0,\"ticks\":\"\"}},\"type\":\"scattergl\"}],\"scattermapbox\":[{\"marker\":{\"colorbar\":{\"outlinewidth\":0,\"ticks\":\"\"}},\"type\":\"scattermapbox\"}],\"scatterpolar\":[{\"marker\":{\"colorbar\":{\"outlinewidth\":0,\"ticks\":\"\"}},\"type\":\"scatterpolar\"}],\"scatterpolargl\":[{\"marker\":{\"colorbar\":{\"outlinewidth\":0,\"ticks\":\"\"}},\"type\":\"scatterpolargl\"}],\"scatterternary\":[{\"marker\":{\"colorbar\":{\"outlinewidth\":0,\"ticks\":\"\"}},\"type\":\"scatterternary\"}],\"surface\":[{\"colorbar\":{\"outlinewidth\":0,\"ticks\":\"\"},\"colorscale\":[[0.0,\"#0d0887\"],[0.1111111111111111,\"#46039f\"],[0.2222222222222222,\"#7201a8\"],[0.3333333333333333,\"#9c179e\"],[0.4444444444444444,\"#bd3786\"],[0.5555555555555556,\"#d8576b\"],[0.6666666666666666,\"#ed7953\"],[0.7777777777777778,\"#fb9f3a\"],[0.8888888888888888,\"#fdca26\"],[1.0,\"#f0f921\"]],\"type\":\"surface\"}],\"table\":[{\"cells\":{\"fill\":{\"color\":\"#EBF0F8\"},\"line\":{\"color\":\"white\"}},\"header\":{\"fill\":{\"color\":\"#C8D4E3\"},\"line\":{\"color\":\"white\"}},\"type\":\"table\"}]},\"layout\":{\"annotationdefaults\":{\"arrowcolor\":\"#2a3f5f\",\"arrowhead\":0,\"arrowwidth\":1},\"autotypenumbers\":\"strict\",\"coloraxis\":{\"colorbar\":{\"outlinewidth\":0,\"ticks\":\"\"}},\"colorscale\":{\"diverging\":[[0,\"#8e0152\"],[0.1,\"#c51b7d\"],[0.2,\"#de77ae\"],[0.3,\"#f1b6da\"],[0.4,\"#fde0ef\"],[0.5,\"#f7f7f7\"],[0.6,\"#e6f5d0\"],[0.7,\"#b8e186\"],[0.8,\"#7fbc41\"],[0.9,\"#4d9221\"],[1,\"#276419\"]],\"sequential\":[[0.0,\"#0d0887\"],[0.1111111111111111,\"#46039f\"],[0.2222222222222222,\"#7201a8\"],[0.3333333333333333,\"#9c179e\"],[0.4444444444444444,\"#bd3786\"],[0.5555555555555556,\"#d8576b\"],[0.6666666666666666,\"#ed7953\"],[0.7777777777777778,\"#fb9f3a\"],[0.8888888888888888,\"#fdca26\"],[1.0,\"#f0f921\"]],\"sequentialminus\":[[0.0,\"#0d0887\"],[0.1111111111111111,\"#46039f\"],[0.2222222222222222,\"#7201a8\"],[0.3333333333333333,\"#9c179e\"],[0.4444444444444444,\"#bd3786\"],[0.5555555555555556,\"#d8576b\"],[0.6666666666666666,\"#ed7953\"],[0.7777777777777778,\"#fb9f3a\"],[0.8888888888888888,\"#fdca26\"],[1.0,\"#f0f921\"]]},\"colorway\":[\"#636efa\",\"#EF553B\",\"#00cc96\",\"#ab63fa\",\"#FFA15A\",\"#19d3f3\",\"#FF6692\",\"#B6E880\",\"#FF97FF\",\"#FECB52\"],\"font\":{\"color\":\"#2a3f5f\"},\"geo\":{\"bgcolor\":\"white\",\"lakecolor\":\"white\",\"landcolor\":\"#E5ECF6\",\"showlakes\":true,\"showland\":true,\"subunitcolor\":\"white\"},\"hoverlabel\":{\"align\":\"left\"},\"hovermode\":\"closest\",\"mapbox\":{\"style\":\"light\"},\"paper_bgcolor\":\"white\",\"plot_bgcolor\":\"#E5ECF6\",\"polar\":{\"angularaxis\":{\"gridcolor\":\"white\",\"linecolor\":\"white\",\"ticks\":\"\"},\"bgcolor\":\"#E5ECF6\",\"radialaxis\":{\"gridcolor\":\"white\",\"linecolor\":\"white\",\"ticks\":\"\"}},\"scene\":{\"xaxis\":{\"backgroundcolor\":\"#E5ECF6\",\"gridcolor\":\"white\",\"gridwidth\":2,\"linecolor\":\"white\",\"showbackground\":true,\"ticks\":\"\",\"zerolinecolor\":\"white\"},\"yaxis\":{\"backgroundcolor\":\"#E5ECF6\",\"gridcolor\":\"white\",\"gridwidth\":2,\"linecolor\":\"white\",\"showbackground\":true,\"ticks\":\"\",\"zerolinecolor\":\"white\"},\"zaxis\":{\"backgroundcolor\":\"#E5ECF6\",\"gridcolor\":\"white\",\"gridwidth\":2,\"linecolor\":\"white\",\"showbackground\":true,\"ticks\":\"\",\"zerolinecolor\":\"white\"}},\"shapedefaults\":{\"line\":{\"color\":\"#2a3f5f\"}},\"ternary\":{\"aaxis\":{\"gridcolor\":\"white\",\"linecolor\":\"white\",\"ticks\":\"\"},\"baxis\":{\"gridcolor\":\"white\",\"linecolor\":\"white\",\"ticks\":\"\"},\"bgcolor\":\"#E5ECF6\",\"caxis\":{\"gridcolor\":\"white\",\"linecolor\":\"white\",\"ticks\":\"\"}},\"title\":{\"x\":0.05},\"xaxis\":{\"automargin\":true,\"gridcolor\":\"white\",\"linecolor\":\"white\",\"ticks\":\"\",\"title\":{\"standoff\":15},\"zerolinecolor\":\"white\",\"zerolinewidth\":2},\"yaxis\":{\"automargin\":true,\"gridcolor\":\"white\",\"linecolor\":\"white\",\"ticks\":\"\",\"title\":{\"standoff\":15},\"zerolinecolor\":\"white\",\"zerolinewidth\":2}}},\"xaxis\":{\"anchor\":\"y\",\"domain\":[0.0,1.0],\"title\":{\"text\":\"x\"}},\"yaxis\":{\"anchor\":\"x\",\"domain\":[0.0,1.0],\"title\":{\"text\":\"y\"}}},                        {\"responsive\": true}                    ).then(function(){\n",
       "                            \n",
       "var gd = document.getElementById('cc19a86f-eb93-467d-b03b-19c519f7ddc1');\n",
       "var x = new MutationObserver(function (mutations, observer) {{\n",
       "        var display = window.getComputedStyle(gd).display;\n",
       "        if (!display || display === 'none') {{\n",
       "            console.log([gd, 'removed!']);\n",
       "            Plotly.purge(gd);\n",
       "            observer.disconnect();\n",
       "        }}\n",
       "}});\n",
       "\n",
       "// Listen for the removal of the full notebook cells\n",
       "var notebookContainer = gd.closest('#notebook-container');\n",
       "if (notebookContainer) {{\n",
       "    x.observe(notebookContainer, {childList: true});\n",
       "}}\n",
       "\n",
       "// Listen for the clearing of the current output cell\n",
       "var outputEl = gd.closest('.output');\n",
       "if (outputEl) {{\n",
       "    x.observe(outputEl, {childList: true});\n",
       "}}\n",
       "\n",
       "                        })                };                });            </script>        </div>"
      ]
     },
     "metadata": {},
     "output_type": "display_data"
    }
   ],
   "source": [
    "# Make a Plotly Express scatter plot of GROSS_SQUARE_FEET vs SALE_PRICE\n",
    "import plotly.express as px\n",
    "fig = px.scatter(x=tribeca['GROSS_SQUARE_FEET'], y=tribeca['SALE_PRICE'], trendline='ols')\n",
    "fig.show()"
   ]
  },
  {
   "cell_type": "code",
   "execution_count": null,
   "metadata": {},
   "outputs": [],
   "source": [
    "# Add an OLS (Ordinary Least Squares) trendline,\n",
    "# to see how the outliers influence the \"line of best fit\"\n"
   ]
  },
  {
   "cell_type": "code",
   "execution_count": 139,
   "metadata": {},
   "outputs": [
    {
     "data": {
      "text/html": [
       "<div>\n",
       "<style scoped>\n",
       "    .dataframe tbody tr th:only-of-type {\n",
       "        vertical-align: middle;\n",
       "    }\n",
       "\n",
       "    .dataframe tbody tr th {\n",
       "        vertical-align: top;\n",
       "    }\n",
       "\n",
       "    .dataframe thead th {\n",
       "        text-align: right;\n",
       "    }\n",
       "</style>\n",
       "<table border=\"1\" class=\"dataframe\">\n",
       "  <thead>\n",
       "    <tr style=\"text-align: right;\">\n",
       "      <th></th>\n",
       "      <th>BOROUGH</th>\n",
       "      <th>NEIGHBORHOOD</th>\n",
       "      <th>BUILDING_CLASS_CATEGORY</th>\n",
       "      <th>TAX_CLASS_AT_PRESENT</th>\n",
       "      <th>BLOCK</th>\n",
       "      <th>LOT</th>\n",
       "      <th>EASE-MENT</th>\n",
       "      <th>BUILDING_CLASS_AT_PRESENT</th>\n",
       "      <th>ADDRESS</th>\n",
       "      <th>APARTMENT_NUMBER</th>\n",
       "      <th>...</th>\n",
       "      <th>RESIDENTIAL_UNITS</th>\n",
       "      <th>COMMERCIAL_UNITS</th>\n",
       "      <th>TOTAL_UNITS</th>\n",
       "      <th>LAND_SQUARE_FEET</th>\n",
       "      <th>GROSS_SQUARE_FEET</th>\n",
       "      <th>YEAR_BUILT</th>\n",
       "      <th>TAX_CLASS_AT_TIME_OF_SALE</th>\n",
       "      <th>BUILDING_CLASS_AT_TIME_OF_SALE</th>\n",
       "      <th>SALE_PRICE</th>\n",
       "      <th>SALE_DATE</th>\n",
       "    </tr>\n",
       "  </thead>\n",
       "  <tbody>\n",
       "    <tr>\n",
       "      <th>6499</th>\n",
       "      <td>1</td>\n",
       "      <td>TRIBECA</td>\n",
       "      <td>08 RENTALS - ELEVATOR APARTMENTS</td>\n",
       "      <td>2</td>\n",
       "      <td>224</td>\n",
       "      <td>1</td>\n",
       "      <td>NaN</td>\n",
       "      <td>D8</td>\n",
       "      <td>34 DESBROSSES STREET</td>\n",
       "      <td>NaN</td>\n",
       "      <td>...</td>\n",
       "      <td>283.0</td>\n",
       "      <td>3.0</td>\n",
       "      <td>286.0</td>\n",
       "      <td>36,858</td>\n",
       "      <td>305542.0</td>\n",
       "      <td>2007.0</td>\n",
       "      <td>2</td>\n",
       "      <td>D8</td>\n",
       "      <td>260000000.0</td>\n",
       "      <td>02/01/2019</td>\n",
       "    </tr>\n",
       "    <tr>\n",
       "      <th>8370</th>\n",
       "      <td>1</td>\n",
       "      <td>TRIBECA</td>\n",
       "      <td>13 CONDOS - ELEVATOR APARTMENTS</td>\n",
       "      <td>2</td>\n",
       "      <td>223</td>\n",
       "      <td>1105</td>\n",
       "      <td>NaN</td>\n",
       "      <td>R4</td>\n",
       "      <td>70 VESTRY STREET, 3C</td>\n",
       "      <td>3C</td>\n",
       "      <td>...</td>\n",
       "      <td>1.0</td>\n",
       "      <td>0.0</td>\n",
       "      <td>1.0</td>\n",
       "      <td>0</td>\n",
       "      <td>1670.0</td>\n",
       "      <td>2016.0</td>\n",
       "      <td>2</td>\n",
       "      <td>R4</td>\n",
       "      <td>36681561.0</td>\n",
       "      <td>02/12/2019</td>\n",
       "    </tr>\n",
       "    <tr>\n",
       "      <th>8371</th>\n",
       "      <td>1</td>\n",
       "      <td>TRIBECA</td>\n",
       "      <td>13 CONDOS - ELEVATOR APARTMENTS</td>\n",
       "      <td>2</td>\n",
       "      <td>223</td>\n",
       "      <td>1123</td>\n",
       "      <td>NaN</td>\n",
       "      <td>R4</td>\n",
       "      <td>70 VESTRY STREET, 6C</td>\n",
       "      <td>6C</td>\n",
       "      <td>...</td>\n",
       "      <td>1.0</td>\n",
       "      <td>0.0</td>\n",
       "      <td>1.0</td>\n",
       "      <td>0</td>\n",
       "      <td>1906.0</td>\n",
       "      <td>2016.0</td>\n",
       "      <td>2</td>\n",
       "      <td>R4</td>\n",
       "      <td>36681561.0</td>\n",
       "      <td>02/12/2019</td>\n",
       "    </tr>\n",
       "    <tr>\n",
       "      <th>8372</th>\n",
       "      <td>1</td>\n",
       "      <td>TRIBECA</td>\n",
       "      <td>13 CONDOS - ELEVATOR APARTMENTS</td>\n",
       "      <td>2</td>\n",
       "      <td>223</td>\n",
       "      <td>1124</td>\n",
       "      <td>NaN</td>\n",
       "      <td>R4</td>\n",
       "      <td>70 VESTRY STREET, 6D</td>\n",
       "      <td>6D</td>\n",
       "      <td>...</td>\n",
       "      <td>1.0</td>\n",
       "      <td>0.0</td>\n",
       "      <td>1.0</td>\n",
       "      <td>0</td>\n",
       "      <td>2536.0</td>\n",
       "      <td>2016.0</td>\n",
       "      <td>2</td>\n",
       "      <td>R4</td>\n",
       "      <td>36681561.0</td>\n",
       "      <td>02/12/2019</td>\n",
       "    </tr>\n",
       "    <tr>\n",
       "      <th>8373</th>\n",
       "      <td>1</td>\n",
       "      <td>TRIBECA</td>\n",
       "      <td>13 CONDOS - ELEVATOR APARTMENTS</td>\n",
       "      <td>2</td>\n",
       "      <td>223</td>\n",
       "      <td>1125</td>\n",
       "      <td>NaN</td>\n",
       "      <td>R4</td>\n",
       "      <td>70 VESTRY STREET, 6E</td>\n",
       "      <td>6E</td>\n",
       "      <td>...</td>\n",
       "      <td>1.0</td>\n",
       "      <td>0.0</td>\n",
       "      <td>1.0</td>\n",
       "      <td>0</td>\n",
       "      <td>2965.0</td>\n",
       "      <td>2016.0</td>\n",
       "      <td>2</td>\n",
       "      <td>R4</td>\n",
       "      <td>36681561.0</td>\n",
       "      <td>02/12/2019</td>\n",
       "    </tr>\n",
       "    <tr>\n",
       "      <th>8374</th>\n",
       "      <td>1</td>\n",
       "      <td>TRIBECA</td>\n",
       "      <td>13 CONDOS - ELEVATOR APARTMENTS</td>\n",
       "      <td>2</td>\n",
       "      <td>223</td>\n",
       "      <td>1126</td>\n",
       "      <td>NaN</td>\n",
       "      <td>R4</td>\n",
       "      <td>70 VESTRY STREET, 6F</td>\n",
       "      <td>6F</td>\n",
       "      <td>...</td>\n",
       "      <td>1.0</td>\n",
       "      <td>0.0</td>\n",
       "      <td>1.0</td>\n",
       "      <td>0</td>\n",
       "      <td>2445.0</td>\n",
       "      <td>2016.0</td>\n",
       "      <td>2</td>\n",
       "      <td>R4</td>\n",
       "      <td>36681561.0</td>\n",
       "      <td>02/12/2019</td>\n",
       "    </tr>\n",
       "    <tr>\n",
       "      <th>8375</th>\n",
       "      <td>1</td>\n",
       "      <td>TRIBECA</td>\n",
       "      <td>13 CONDOS - ELEVATOR APARTMENTS</td>\n",
       "      <td>2</td>\n",
       "      <td>223</td>\n",
       "      <td>1127</td>\n",
       "      <td>NaN</td>\n",
       "      <td>R4</td>\n",
       "      <td>70 VESTRY STREET, 7A</td>\n",
       "      <td>7A</td>\n",
       "      <td>...</td>\n",
       "      <td>1.0</td>\n",
       "      <td>0.0</td>\n",
       "      <td>1.0</td>\n",
       "      <td>0</td>\n",
       "      <td>2844.0</td>\n",
       "      <td>2016.0</td>\n",
       "      <td>2</td>\n",
       "      <td>R4</td>\n",
       "      <td>36681561.0</td>\n",
       "      <td>02/12/2019</td>\n",
       "    </tr>\n",
       "    <tr>\n",
       "      <th>8376</th>\n",
       "      <td>1</td>\n",
       "      <td>TRIBECA</td>\n",
       "      <td>13 CONDOS - ELEVATOR APARTMENTS</td>\n",
       "      <td>2</td>\n",
       "      <td>223</td>\n",
       "      <td>1128</td>\n",
       "      <td>NaN</td>\n",
       "      <td>R4</td>\n",
       "      <td>70 VESTRY STREET, 7B</td>\n",
       "      <td>7B</td>\n",
       "      <td>...</td>\n",
       "      <td>1.0</td>\n",
       "      <td>0.0</td>\n",
       "      <td>1.0</td>\n",
       "      <td>0</td>\n",
       "      <td>3242.0</td>\n",
       "      <td>2016.0</td>\n",
       "      <td>2</td>\n",
       "      <td>R4</td>\n",
       "      <td>36681561.0</td>\n",
       "      <td>02/12/2019</td>\n",
       "    </tr>\n",
       "    <tr>\n",
       "      <th>8377</th>\n",
       "      <td>1</td>\n",
       "      <td>TRIBECA</td>\n",
       "      <td>13 CONDOS - ELEVATOR APARTMENTS</td>\n",
       "      <td>2</td>\n",
       "      <td>223</td>\n",
       "      <td>1129</td>\n",
       "      <td>NaN</td>\n",
       "      <td>R4</td>\n",
       "      <td>70 VESTRY STREET, 7C</td>\n",
       "      <td>7C</td>\n",
       "      <td>...</td>\n",
       "      <td>1.0</td>\n",
       "      <td>0.0</td>\n",
       "      <td>1.0</td>\n",
       "      <td>0</td>\n",
       "      <td>1906.0</td>\n",
       "      <td>2016.0</td>\n",
       "      <td>2</td>\n",
       "      <td>R4</td>\n",
       "      <td>36681561.0</td>\n",
       "      <td>02/12/2019</td>\n",
       "    </tr>\n",
       "    <tr>\n",
       "      <th>8378</th>\n",
       "      <td>1</td>\n",
       "      <td>TRIBECA</td>\n",
       "      <td>13 CONDOS - ELEVATOR APARTMENTS</td>\n",
       "      <td>2</td>\n",
       "      <td>223</td>\n",
       "      <td>1130</td>\n",
       "      <td>NaN</td>\n",
       "      <td>R4</td>\n",
       "      <td>70 VESTRY STREET, 7D</td>\n",
       "      <td>7D</td>\n",
       "      <td>...</td>\n",
       "      <td>1.0</td>\n",
       "      <td>0.0</td>\n",
       "      <td>1.0</td>\n",
       "      <td>0</td>\n",
       "      <td>2536.0</td>\n",
       "      <td>2016.0</td>\n",
       "      <td>2</td>\n",
       "      <td>R4</td>\n",
       "      <td>36681561.0</td>\n",
       "      <td>02/12/2019</td>\n",
       "    </tr>\n",
       "    <tr>\n",
       "      <th>8379</th>\n",
       "      <td>1</td>\n",
       "      <td>TRIBECA</td>\n",
       "      <td>13 CONDOS - ELEVATOR APARTMENTS</td>\n",
       "      <td>2</td>\n",
       "      <td>223</td>\n",
       "      <td>1131</td>\n",
       "      <td>NaN</td>\n",
       "      <td>R4</td>\n",
       "      <td>70 VESTRY STREET, 7E</td>\n",
       "      <td>7E</td>\n",
       "      <td>...</td>\n",
       "      <td>1.0</td>\n",
       "      <td>0.0</td>\n",
       "      <td>1.0</td>\n",
       "      <td>0</td>\n",
       "      <td>2965.0</td>\n",
       "      <td>2016.0</td>\n",
       "      <td>2</td>\n",
       "      <td>R4</td>\n",
       "      <td>36681561.0</td>\n",
       "      <td>02/12/2019</td>\n",
       "    </tr>\n",
       "    <tr>\n",
       "      <th>8380</th>\n",
       "      <td>1</td>\n",
       "      <td>TRIBECA</td>\n",
       "      <td>13 CONDOS - ELEVATOR APARTMENTS</td>\n",
       "      <td>2</td>\n",
       "      <td>223</td>\n",
       "      <td>1132</td>\n",
       "      <td>NaN</td>\n",
       "      <td>R4</td>\n",
       "      <td>70 VESTRY STREET, 7F</td>\n",
       "      <td>7F</td>\n",
       "      <td>...</td>\n",
       "      <td>1.0</td>\n",
       "      <td>0.0</td>\n",
       "      <td>1.0</td>\n",
       "      <td>0</td>\n",
       "      <td>2445.0</td>\n",
       "      <td>2016.0</td>\n",
       "      <td>2</td>\n",
       "      <td>R4</td>\n",
       "      <td>36681561.0</td>\n",
       "      <td>02/12/2019</td>\n",
       "    </tr>\n",
       "    <tr>\n",
       "      <th>8381</th>\n",
       "      <td>1</td>\n",
       "      <td>TRIBECA</td>\n",
       "      <td>13 CONDOS - ELEVATOR APARTMENTS</td>\n",
       "      <td>2</td>\n",
       "      <td>223</td>\n",
       "      <td>1134</td>\n",
       "      <td>NaN</td>\n",
       "      <td>R4</td>\n",
       "      <td>70 VESTRY STREET, 8W</td>\n",
       "      <td>8W</td>\n",
       "      <td>...</td>\n",
       "      <td>1.0</td>\n",
       "      <td>0.0</td>\n",
       "      <td>1.0</td>\n",
       "      <td>0</td>\n",
       "      <td>2609.0</td>\n",
       "      <td>2016.0</td>\n",
       "      <td>2</td>\n",
       "      <td>R4</td>\n",
       "      <td>36681561.0</td>\n",
       "      <td>02/12/2019</td>\n",
       "    </tr>\n",
       "    <tr>\n",
       "      <th>8382</th>\n",
       "      <td>1</td>\n",
       "      <td>TRIBECA</td>\n",
       "      <td>13 CONDOS - ELEVATOR APARTMENTS</td>\n",
       "      <td>2</td>\n",
       "      <td>223</td>\n",
       "      <td>1137</td>\n",
       "      <td>NaN</td>\n",
       "      <td>R4</td>\n",
       "      <td>70 VESTRY STREET, 9W</td>\n",
       "      <td>9W</td>\n",
       "      <td>...</td>\n",
       "      <td>1.0</td>\n",
       "      <td>0.0</td>\n",
       "      <td>1.0</td>\n",
       "      <td>0</td>\n",
       "      <td>2592.0</td>\n",
       "      <td>2016.0</td>\n",
       "      <td>2</td>\n",
       "      <td>R4</td>\n",
       "      <td>36681561.0</td>\n",
       "      <td>02/12/2019</td>\n",
       "    </tr>\n",
       "    <tr>\n",
       "      <th>8383</th>\n",
       "      <td>1</td>\n",
       "      <td>TRIBECA</td>\n",
       "      <td>13 CONDOS - ELEVATOR APARTMENTS</td>\n",
       "      <td>2</td>\n",
       "      <td>223</td>\n",
       "      <td>1140</td>\n",
       "      <td>NaN</td>\n",
       "      <td>R4</td>\n",
       "      <td>70 VESTRY STREET, 10W</td>\n",
       "      <td>10W</td>\n",
       "      <td>...</td>\n",
       "      <td>1.0</td>\n",
       "      <td>0.0</td>\n",
       "      <td>1.0</td>\n",
       "      <td>0</td>\n",
       "      <td>2592.0</td>\n",
       "      <td>2016.0</td>\n",
       "      <td>2</td>\n",
       "      <td>R4</td>\n",
       "      <td>36681561.0</td>\n",
       "      <td>02/12/2019</td>\n",
       "    </tr>\n",
       "    <tr>\n",
       "      <th>8384</th>\n",
       "      <td>1</td>\n",
       "      <td>TRIBECA</td>\n",
       "      <td>13 CONDOS - ELEVATOR APARTMENTS</td>\n",
       "      <td>2</td>\n",
       "      <td>223</td>\n",
       "      <td>1143</td>\n",
       "      <td>NaN</td>\n",
       "      <td>R4</td>\n",
       "      <td>70 VESTRY STREET, 11W</td>\n",
       "      <td>11W</td>\n",
       "      <td>...</td>\n",
       "      <td>1.0</td>\n",
       "      <td>0.0</td>\n",
       "      <td>1.0</td>\n",
       "      <td>0</td>\n",
       "      <td>2592.0</td>\n",
       "      <td>2016.0</td>\n",
       "      <td>2</td>\n",
       "      <td>R4</td>\n",
       "      <td>36681561.0</td>\n",
       "      <td>02/12/2019</td>\n",
       "    </tr>\n",
       "    <tr>\n",
       "      <th>9236</th>\n",
       "      <td>1</td>\n",
       "      <td>TRIBECA</td>\n",
       "      <td>13 CONDOS - ELEVATOR APARTMENTS</td>\n",
       "      <td>2</td>\n",
       "      <td>223</td>\n",
       "      <td>1144</td>\n",
       "      <td>NaN</td>\n",
       "      <td>R4</td>\n",
       "      <td>70 VESTRY STREET, 12S</td>\n",
       "      <td>12S</td>\n",
       "      <td>...</td>\n",
       "      <td>1.0</td>\n",
       "      <td>0.0</td>\n",
       "      <td>1.0</td>\n",
       "      <td>0</td>\n",
       "      <td>8346.0</td>\n",
       "      <td>2016.0</td>\n",
       "      <td>2</td>\n",
       "      <td>R4</td>\n",
       "      <td>39285000.0</td>\n",
       "      <td>02/15/2019</td>\n",
       "    </tr>\n",
       "  </tbody>\n",
       "</table>\n",
       "<p>17 rows × 21 columns</p>\n",
       "</div>"
      ],
      "text/plain": [
       "      BOROUGH NEIGHBORHOOD           BUILDING_CLASS_CATEGORY  \\\n",
       "6499        1      TRIBECA  08 RENTALS - ELEVATOR APARTMENTS   \n",
       "8370        1      TRIBECA   13 CONDOS - ELEVATOR APARTMENTS   \n",
       "8371        1      TRIBECA   13 CONDOS - ELEVATOR APARTMENTS   \n",
       "8372        1      TRIBECA   13 CONDOS - ELEVATOR APARTMENTS   \n",
       "8373        1      TRIBECA   13 CONDOS - ELEVATOR APARTMENTS   \n",
       "8374        1      TRIBECA   13 CONDOS - ELEVATOR APARTMENTS   \n",
       "8375        1      TRIBECA   13 CONDOS - ELEVATOR APARTMENTS   \n",
       "8376        1      TRIBECA   13 CONDOS - ELEVATOR APARTMENTS   \n",
       "8377        1      TRIBECA   13 CONDOS - ELEVATOR APARTMENTS   \n",
       "8378        1      TRIBECA   13 CONDOS - ELEVATOR APARTMENTS   \n",
       "8379        1      TRIBECA   13 CONDOS - ELEVATOR APARTMENTS   \n",
       "8380        1      TRIBECA   13 CONDOS - ELEVATOR APARTMENTS   \n",
       "8381        1      TRIBECA   13 CONDOS - ELEVATOR APARTMENTS   \n",
       "8382        1      TRIBECA   13 CONDOS - ELEVATOR APARTMENTS   \n",
       "8383        1      TRIBECA   13 CONDOS - ELEVATOR APARTMENTS   \n",
       "8384        1      TRIBECA   13 CONDOS - ELEVATOR APARTMENTS   \n",
       "9236        1      TRIBECA   13 CONDOS - ELEVATOR APARTMENTS   \n",
       "\n",
       "     TAX_CLASS_AT_PRESENT  BLOCK   LOT  EASE-MENT BUILDING_CLASS_AT_PRESENT  \\\n",
       "6499                    2    224     1        NaN                        D8   \n",
       "8370                    2    223  1105        NaN                        R4   \n",
       "8371                    2    223  1123        NaN                        R4   \n",
       "8372                    2    223  1124        NaN                        R4   \n",
       "8373                    2    223  1125        NaN                        R4   \n",
       "8374                    2    223  1126        NaN                        R4   \n",
       "8375                    2    223  1127        NaN                        R4   \n",
       "8376                    2    223  1128        NaN                        R4   \n",
       "8377                    2    223  1129        NaN                        R4   \n",
       "8378                    2    223  1130        NaN                        R4   \n",
       "8379                    2    223  1131        NaN                        R4   \n",
       "8380                    2    223  1132        NaN                        R4   \n",
       "8381                    2    223  1134        NaN                        R4   \n",
       "8382                    2    223  1137        NaN                        R4   \n",
       "8383                    2    223  1140        NaN                        R4   \n",
       "8384                    2    223  1143        NaN                        R4   \n",
       "9236                    2    223  1144        NaN                        R4   \n",
       "\n",
       "                    ADDRESS APARTMENT_NUMBER  ...  RESIDENTIAL_UNITS  \\\n",
       "6499   34 DESBROSSES STREET              NaN  ...              283.0   \n",
       "8370   70 VESTRY STREET, 3C               3C  ...                1.0   \n",
       "8371   70 VESTRY STREET, 6C               6C  ...                1.0   \n",
       "8372   70 VESTRY STREET, 6D               6D  ...                1.0   \n",
       "8373   70 VESTRY STREET, 6E               6E  ...                1.0   \n",
       "8374   70 VESTRY STREET, 6F               6F  ...                1.0   \n",
       "8375   70 VESTRY STREET, 7A               7A  ...                1.0   \n",
       "8376   70 VESTRY STREET, 7B               7B  ...                1.0   \n",
       "8377   70 VESTRY STREET, 7C               7C  ...                1.0   \n",
       "8378   70 VESTRY STREET, 7D               7D  ...                1.0   \n",
       "8379   70 VESTRY STREET, 7E               7E  ...                1.0   \n",
       "8380   70 VESTRY STREET, 7F               7F  ...                1.0   \n",
       "8381   70 VESTRY STREET, 8W               8W  ...                1.0   \n",
       "8382   70 VESTRY STREET, 9W               9W  ...                1.0   \n",
       "8383  70 VESTRY STREET, 10W              10W  ...                1.0   \n",
       "8384  70 VESTRY STREET, 11W              11W  ...                1.0   \n",
       "9236  70 VESTRY STREET, 12S              12S  ...                1.0   \n",
       "\n",
       "      COMMERCIAL_UNITS  TOTAL_UNITS  LAND_SQUARE_FEET GROSS_SQUARE_FEET  \\\n",
       "6499               3.0        286.0            36,858          305542.0   \n",
       "8370               0.0          1.0                 0            1670.0   \n",
       "8371               0.0          1.0                 0            1906.0   \n",
       "8372               0.0          1.0                 0            2536.0   \n",
       "8373               0.0          1.0                 0            2965.0   \n",
       "8374               0.0          1.0                 0            2445.0   \n",
       "8375               0.0          1.0                 0            2844.0   \n",
       "8376               0.0          1.0                 0            3242.0   \n",
       "8377               0.0          1.0                 0            1906.0   \n",
       "8378               0.0          1.0                 0            2536.0   \n",
       "8379               0.0          1.0                 0            2965.0   \n",
       "8380               0.0          1.0                 0            2445.0   \n",
       "8381               0.0          1.0                 0            2609.0   \n",
       "8382               0.0          1.0                 0            2592.0   \n",
       "8383               0.0          1.0                 0            2592.0   \n",
       "8384               0.0          1.0                 0            2592.0   \n",
       "9236               0.0          1.0                 0            8346.0   \n",
       "\n",
       "      YEAR_BUILT  TAX_CLASS_AT_TIME_OF_SALE  BUILDING_CLASS_AT_TIME_OF_SALE  \\\n",
       "6499      2007.0                          2                              D8   \n",
       "8370      2016.0                          2                              R4   \n",
       "8371      2016.0                          2                              R4   \n",
       "8372      2016.0                          2                              R4   \n",
       "8373      2016.0                          2                              R4   \n",
       "8374      2016.0                          2                              R4   \n",
       "8375      2016.0                          2                              R4   \n",
       "8376      2016.0                          2                              R4   \n",
       "8377      2016.0                          2                              R4   \n",
       "8378      2016.0                          2                              R4   \n",
       "8379      2016.0                          2                              R4   \n",
       "8380      2016.0                          2                              R4   \n",
       "8381      2016.0                          2                              R4   \n",
       "8382      2016.0                          2                              R4   \n",
       "8383      2016.0                          2                              R4   \n",
       "8384      2016.0                          2                              R4   \n",
       "9236      2016.0                          2                              R4   \n",
       "\n",
       "       SALE_PRICE   SALE_DATE  \n",
       "6499  260000000.0  02/01/2019  \n",
       "8370   36681561.0  02/12/2019  \n",
       "8371   36681561.0  02/12/2019  \n",
       "8372   36681561.0  02/12/2019  \n",
       "8373   36681561.0  02/12/2019  \n",
       "8374   36681561.0  02/12/2019  \n",
       "8375   36681561.0  02/12/2019  \n",
       "8376   36681561.0  02/12/2019  \n",
       "8377   36681561.0  02/12/2019  \n",
       "8378   36681561.0  02/12/2019  \n",
       "8379   36681561.0  02/12/2019  \n",
       "8380   36681561.0  02/12/2019  \n",
       "8381   36681561.0  02/12/2019  \n",
       "8382   36681561.0  02/12/2019  \n",
       "8383   36681561.0  02/12/2019  \n",
       "8384   36681561.0  02/12/2019  \n",
       "9236   39285000.0  02/15/2019  \n",
       "\n",
       "[17 rows x 21 columns]"
      ]
     },
     "metadata": {},
     "output_type": "display_data"
    }
   ],
   "source": [
    "# Look at sales for more than $35 million\n",
    "\n",
    "# All are at 70 Vestry Street\n",
    "# All but one have the same SALE_PRICE & SALE_DATE\n",
    "# Was the SALE_PRICE for each? Or in total?\n",
    "# Is this dirty data?\n",
    "tribeca_sale = tribeca[tribeca['SALE_PRICE'] > 35000000]\n",
    "display(tribeca_sale)"
   ]
  },
  {
   "cell_type": "code",
   "execution_count": 141,
   "metadata": {},
   "outputs": [
    {
     "data": {
      "text/plain": [
       "(90, 21)"
      ]
     },
     "metadata": {},
     "output_type": "display_data"
    }
   ],
   "source": [
    "# Make a judgment call:\n",
    "# Keep rows where sale price was < $35 million\n",
    "\n",
    "# Check how many rows you have now. (Should be down to 90 rows.)\n",
    "tribeca_adjusted = tribeca_subset[tribeca_subset['SALE_PRICE'] < 35000000]\n",
    "display(tribeca_adjusted.shape)"
   ]
  },
  {
   "cell_type": "code",
   "execution_count": 142,
   "metadata": {},
   "outputs": [
    {
     "data": {
      "application/vnd.plotly.v1+json": {
       "config": {
        "plotlyServerURL": "https://plot.ly"
       },
       "data": [
        {
         "hovertemplate": "x=%{x}<br>y=%{y}<extra></extra>",
         "legendgroup": "",
         "marker": {
          "color": "#636efa",
          "symbol": "circle"
         },
         "mode": "markers",
         "name": "",
         "orientation": "v",
         "showlegend": false,
         "type": "scatter",
         "x": [
          1840,
          1759,
          1190,
          1088,
          873,
          2279,
          695,
          1449,
          2279,
          3227,
          2249,
          4663,
          4986,
          2436,
          1920,
          432,
          2063,
          3208,
          868,
          2279,
          2289,
          3217,
          3500,
          748,
          2409,
          1190,
          1061,
          860,
          2811,
          1650,
          1666,
          4016,
          2279,
          3844,
          1973,
          625,
          1524,
          1054,
          1526,
          875,
          1850,
          1144,
          2292,
          2279,
          2964,
          688,
          1661,
          2663,
          634,
          756,
          530,
          1061,
          695,
          2685,
          3243,
          2342,
          2481,
          440,
          1311,
          915,
          647,
          948,
          565,
          1593,
          2300,
          2028,
          1014,
          1359,
          3260,
          830,
          951,
          652,
          3428,
          2311,
          704,
          1580,
          2042,
          638,
          1816,
          2481,
          3201,
          1096,
          2221,
          661,
          814,
          2429,
          1601,
          634,
          939,
          695
         ],
         "xaxis": "x",
         "y": [
          2800000,
          2650000,
          1005000,
          1678000,
          1380000,
          6924100,
          501000,
          2400000,
          9316988,
          10200000,
          4100000,
          7200000,
          13240000,
          4900000,
          3870000,
          640000,
          4750000,
          11648526,
          1090000,
          4400000,
          8909688,
          12376829,
          8000000,
          999500,
          5350000,
          1250000,
          1770000,
          905000,
          6053000,
          3250000,
          5150000,
          12750000,
          9164250,
          6761138,
          4050000,
          1360000,
          2495000,
          1175000,
          2250000,
          1350000,
          3145000,
          1658000,
          3836438,
          6720000,
          15000000,
          1651544,
          3300000,
          5270000,
          858000,
          685000,
          490000,
          1754000,
          475000,
          7722000,
          12142631,
          3700000,
          4800000,
          630000,
          2050000,
          424770,
          496860,
          1275000,
          520000,
          3920263,
          4500000,
          3550000,
          1320000,
          1404586,
          12200000,
          785000,
          1175000,
          982500,
          3850000,
          3400000,
          710000,
          2700000,
          4100000,
          895000,
          3635000,
          4800000,
          12040000,
          1550000,
          4600000,
          750000,
          1150403,
          5761259,
          2600000,
          605000,
          960000,
          975000
         ],
         "yaxis": "y"
        },
        {
         "hovertemplate": "<b>OLS trendline</b><br>y = 3076.45 * x + -1.50536e+06<br>R<sup>2</sup>=0.748751<br><br>x=%{x}<br>y=%{y} <b>(trend)</b><extra></extra>",
         "legendgroup": "",
         "marker": {
          "color": "#636efa",
          "symbol": "circle"
         },
         "mode": "lines",
         "name": "",
         "showlegend": false,
         "type": "scatter",
         "x": [
          432,
          440,
          530,
          565,
          625,
          634,
          634,
          638,
          647,
          652,
          661,
          688,
          695,
          695,
          695,
          704,
          748,
          756,
          814,
          830,
          860,
          868,
          873,
          875,
          915,
          939,
          948,
          951,
          1014,
          1054,
          1061,
          1061,
          1088,
          1096,
          1144,
          1190,
          1190,
          1311,
          1359,
          1449,
          1524,
          1526,
          1580,
          1593,
          1601,
          1650,
          1661,
          1666,
          1759,
          1816,
          1840,
          1850,
          1920,
          1973,
          2028,
          2042,
          2063,
          2221,
          2249,
          2279,
          2279,
          2279,
          2279,
          2279,
          2289,
          2292,
          2300,
          2311,
          2342,
          2409,
          2429,
          2436,
          2481,
          2481,
          2663,
          2685,
          2811,
          2964,
          3201,
          3208,
          3217,
          3227,
          3243,
          3260,
          3428,
          3500,
          3844,
          4016,
          4663,
          4986
         ],
         "xaxis": "x",
         "y": [
          -176338.6537175437,
          -151727.07247419166,
          125153.21651351848,
          232828.8844531835,
          417415.7437783235,
          445103.7726770947,
          445103.7726770947,
          457409.5632987707,
          485097.5921975416,
          500479.8304746365,
          528167.8593734077,
          611231.9460697207,
          632767.0796576538,
          632767.0796576538,
          632767.0796576538,
          660455.1085564247,
          795818.8053948609,
          820430.386638213,
          998864.350652515,
          1048087.513139219,
          1140380.942801789,
          1164992.524045141,
          1180374.7623222359,
          1186527.657633074,
          1309585.5638498338,
          1383420.30757989,
          1411108.3364786608,
          1420337.679444918,
          1614153.8817363153,
          1737211.787953075,
          1758746.9215410082,
          1758746.9215410082,
          1841811.0082373214,
          1866422.5894806734,
          2014092.0769407852,
          2155608.6690900596,
          2155608.6690900596,
          2527858.8353957585,
          2675528.3228558707,
          2952408.611843581,
          3183142.186000006,
          3189295.0813108436,
          3355423.25470347,
          3395417.0742239165,
          3420028.6554672685,
          3570774.5905827996,
          3604615.5147924093,
          3619997.7530695037,
          3906107.3850234714,
          4081464.9013823546,
          4155299.6451124107,
          4186064.1216666005,
          4401415.4575459305,
          4564467.183283137,
          4733671.804331183,
          4776742.071507048,
          4841347.472270848,
          5327426.201827049,
          5413566.736178782,
          5505860.165841352,
          5505860.165841352,
          5505860.165841352,
          5505860.165841352,
          5505860.165841352,
          5536624.642395541,
          5545853.9853618,
          5570465.566605151,
          5604306.49081476,
          5699676.36813275,
          5905798.3610458225,
          5967327.314154202,
          5988862.447742134,
          6127302.59223599,
          6127302.59223599,
          6687216.065522248,
          6754897.913941467,
          7142530.318524262,
          7613226.8098033685,
          8342344.904137671,
          8363880.037725605,
          8391568.066624375,
          8422332.543178566,
          8471555.70566527,
          8523855.315807393,
          9040698.521917785,
          9262202.753107954,
          10320500.74657209,
          10849649.743304158,
          12840111.376360252,
          13833803.969060589
         ],
         "yaxis": "y"
        }
       ],
       "layout": {
        "legend": {
         "tracegroupgap": 0
        },
        "margin": {
         "t": 60
        },
        "template": {
         "data": {
          "bar": [
           {
            "error_x": {
             "color": "#2a3f5f"
            },
            "error_y": {
             "color": "#2a3f5f"
            },
            "marker": {
             "line": {
              "color": "#E5ECF6",
              "width": 0.5
             },
             "pattern": {
              "fillmode": "overlay",
              "size": 10,
              "solidity": 0.2
             }
            },
            "type": "bar"
           }
          ],
          "barpolar": [
           {
            "marker": {
             "line": {
              "color": "#E5ECF6",
              "width": 0.5
             },
             "pattern": {
              "fillmode": "overlay",
              "size": 10,
              "solidity": 0.2
             }
            },
            "type": "barpolar"
           }
          ],
          "carpet": [
           {
            "aaxis": {
             "endlinecolor": "#2a3f5f",
             "gridcolor": "white",
             "linecolor": "white",
             "minorgridcolor": "white",
             "startlinecolor": "#2a3f5f"
            },
            "baxis": {
             "endlinecolor": "#2a3f5f",
             "gridcolor": "white",
             "linecolor": "white",
             "minorgridcolor": "white",
             "startlinecolor": "#2a3f5f"
            },
            "type": "carpet"
           }
          ],
          "choropleth": [
           {
            "colorbar": {
             "outlinewidth": 0,
             "ticks": ""
            },
            "type": "choropleth"
           }
          ],
          "contour": [
           {
            "colorbar": {
             "outlinewidth": 0,
             "ticks": ""
            },
            "colorscale": [
             [
              0,
              "#0d0887"
             ],
             [
              0.1111111111111111,
              "#46039f"
             ],
             [
              0.2222222222222222,
              "#7201a8"
             ],
             [
              0.3333333333333333,
              "#9c179e"
             ],
             [
              0.4444444444444444,
              "#bd3786"
             ],
             [
              0.5555555555555556,
              "#d8576b"
             ],
             [
              0.6666666666666666,
              "#ed7953"
             ],
             [
              0.7777777777777778,
              "#fb9f3a"
             ],
             [
              0.8888888888888888,
              "#fdca26"
             ],
             [
              1,
              "#f0f921"
             ]
            ],
            "type": "contour"
           }
          ],
          "contourcarpet": [
           {
            "colorbar": {
             "outlinewidth": 0,
             "ticks": ""
            },
            "type": "contourcarpet"
           }
          ],
          "heatmap": [
           {
            "colorbar": {
             "outlinewidth": 0,
             "ticks": ""
            },
            "colorscale": [
             [
              0,
              "#0d0887"
             ],
             [
              0.1111111111111111,
              "#46039f"
             ],
             [
              0.2222222222222222,
              "#7201a8"
             ],
             [
              0.3333333333333333,
              "#9c179e"
             ],
             [
              0.4444444444444444,
              "#bd3786"
             ],
             [
              0.5555555555555556,
              "#d8576b"
             ],
             [
              0.6666666666666666,
              "#ed7953"
             ],
             [
              0.7777777777777778,
              "#fb9f3a"
             ],
             [
              0.8888888888888888,
              "#fdca26"
             ],
             [
              1,
              "#f0f921"
             ]
            ],
            "type": "heatmap"
           }
          ],
          "heatmapgl": [
           {
            "colorbar": {
             "outlinewidth": 0,
             "ticks": ""
            },
            "colorscale": [
             [
              0,
              "#0d0887"
             ],
             [
              0.1111111111111111,
              "#46039f"
             ],
             [
              0.2222222222222222,
              "#7201a8"
             ],
             [
              0.3333333333333333,
              "#9c179e"
             ],
             [
              0.4444444444444444,
              "#bd3786"
             ],
             [
              0.5555555555555556,
              "#d8576b"
             ],
             [
              0.6666666666666666,
              "#ed7953"
             ],
             [
              0.7777777777777778,
              "#fb9f3a"
             ],
             [
              0.8888888888888888,
              "#fdca26"
             ],
             [
              1,
              "#f0f921"
             ]
            ],
            "type": "heatmapgl"
           }
          ],
          "histogram": [
           {
            "marker": {
             "pattern": {
              "fillmode": "overlay",
              "size": 10,
              "solidity": 0.2
             }
            },
            "type": "histogram"
           }
          ],
          "histogram2d": [
           {
            "colorbar": {
             "outlinewidth": 0,
             "ticks": ""
            },
            "colorscale": [
             [
              0,
              "#0d0887"
             ],
             [
              0.1111111111111111,
              "#46039f"
             ],
             [
              0.2222222222222222,
              "#7201a8"
             ],
             [
              0.3333333333333333,
              "#9c179e"
             ],
             [
              0.4444444444444444,
              "#bd3786"
             ],
             [
              0.5555555555555556,
              "#d8576b"
             ],
             [
              0.6666666666666666,
              "#ed7953"
             ],
             [
              0.7777777777777778,
              "#fb9f3a"
             ],
             [
              0.8888888888888888,
              "#fdca26"
             ],
             [
              1,
              "#f0f921"
             ]
            ],
            "type": "histogram2d"
           }
          ],
          "histogram2dcontour": [
           {
            "colorbar": {
             "outlinewidth": 0,
             "ticks": ""
            },
            "colorscale": [
             [
              0,
              "#0d0887"
             ],
             [
              0.1111111111111111,
              "#46039f"
             ],
             [
              0.2222222222222222,
              "#7201a8"
             ],
             [
              0.3333333333333333,
              "#9c179e"
             ],
             [
              0.4444444444444444,
              "#bd3786"
             ],
             [
              0.5555555555555556,
              "#d8576b"
             ],
             [
              0.6666666666666666,
              "#ed7953"
             ],
             [
              0.7777777777777778,
              "#fb9f3a"
             ],
             [
              0.8888888888888888,
              "#fdca26"
             ],
             [
              1,
              "#f0f921"
             ]
            ],
            "type": "histogram2dcontour"
           }
          ],
          "mesh3d": [
           {
            "colorbar": {
             "outlinewidth": 0,
             "ticks": ""
            },
            "type": "mesh3d"
           }
          ],
          "parcoords": [
           {
            "line": {
             "colorbar": {
              "outlinewidth": 0,
              "ticks": ""
             }
            },
            "type": "parcoords"
           }
          ],
          "pie": [
           {
            "automargin": true,
            "type": "pie"
           }
          ],
          "scatter": [
           {
            "marker": {
             "colorbar": {
              "outlinewidth": 0,
              "ticks": ""
             }
            },
            "type": "scatter"
           }
          ],
          "scatter3d": [
           {
            "line": {
             "colorbar": {
              "outlinewidth": 0,
              "ticks": ""
             }
            },
            "marker": {
             "colorbar": {
              "outlinewidth": 0,
              "ticks": ""
             }
            },
            "type": "scatter3d"
           }
          ],
          "scattercarpet": [
           {
            "marker": {
             "colorbar": {
              "outlinewidth": 0,
              "ticks": ""
             }
            },
            "type": "scattercarpet"
           }
          ],
          "scattergeo": [
           {
            "marker": {
             "colorbar": {
              "outlinewidth": 0,
              "ticks": ""
             }
            },
            "type": "scattergeo"
           }
          ],
          "scattergl": [
           {
            "marker": {
             "colorbar": {
              "outlinewidth": 0,
              "ticks": ""
             }
            },
            "type": "scattergl"
           }
          ],
          "scattermapbox": [
           {
            "marker": {
             "colorbar": {
              "outlinewidth": 0,
              "ticks": ""
             }
            },
            "type": "scattermapbox"
           }
          ],
          "scatterpolar": [
           {
            "marker": {
             "colorbar": {
              "outlinewidth": 0,
              "ticks": ""
             }
            },
            "type": "scatterpolar"
           }
          ],
          "scatterpolargl": [
           {
            "marker": {
             "colorbar": {
              "outlinewidth": 0,
              "ticks": ""
             }
            },
            "type": "scatterpolargl"
           }
          ],
          "scatterternary": [
           {
            "marker": {
             "colorbar": {
              "outlinewidth": 0,
              "ticks": ""
             }
            },
            "type": "scatterternary"
           }
          ],
          "surface": [
           {
            "colorbar": {
             "outlinewidth": 0,
             "ticks": ""
            },
            "colorscale": [
             [
              0,
              "#0d0887"
             ],
             [
              0.1111111111111111,
              "#46039f"
             ],
             [
              0.2222222222222222,
              "#7201a8"
             ],
             [
              0.3333333333333333,
              "#9c179e"
             ],
             [
              0.4444444444444444,
              "#bd3786"
             ],
             [
              0.5555555555555556,
              "#d8576b"
             ],
             [
              0.6666666666666666,
              "#ed7953"
             ],
             [
              0.7777777777777778,
              "#fb9f3a"
             ],
             [
              0.8888888888888888,
              "#fdca26"
             ],
             [
              1,
              "#f0f921"
             ]
            ],
            "type": "surface"
           }
          ],
          "table": [
           {
            "cells": {
             "fill": {
              "color": "#EBF0F8"
             },
             "line": {
              "color": "white"
             }
            },
            "header": {
             "fill": {
              "color": "#C8D4E3"
             },
             "line": {
              "color": "white"
             }
            },
            "type": "table"
           }
          ]
         },
         "layout": {
          "annotationdefaults": {
           "arrowcolor": "#2a3f5f",
           "arrowhead": 0,
           "arrowwidth": 1
          },
          "autotypenumbers": "strict",
          "coloraxis": {
           "colorbar": {
            "outlinewidth": 0,
            "ticks": ""
           }
          },
          "colorscale": {
           "diverging": [
            [
             0,
             "#8e0152"
            ],
            [
             0.1,
             "#c51b7d"
            ],
            [
             0.2,
             "#de77ae"
            ],
            [
             0.3,
             "#f1b6da"
            ],
            [
             0.4,
             "#fde0ef"
            ],
            [
             0.5,
             "#f7f7f7"
            ],
            [
             0.6,
             "#e6f5d0"
            ],
            [
             0.7,
             "#b8e186"
            ],
            [
             0.8,
             "#7fbc41"
            ],
            [
             0.9,
             "#4d9221"
            ],
            [
             1,
             "#276419"
            ]
           ],
           "sequential": [
            [
             0,
             "#0d0887"
            ],
            [
             0.1111111111111111,
             "#46039f"
            ],
            [
             0.2222222222222222,
             "#7201a8"
            ],
            [
             0.3333333333333333,
             "#9c179e"
            ],
            [
             0.4444444444444444,
             "#bd3786"
            ],
            [
             0.5555555555555556,
             "#d8576b"
            ],
            [
             0.6666666666666666,
             "#ed7953"
            ],
            [
             0.7777777777777778,
             "#fb9f3a"
            ],
            [
             0.8888888888888888,
             "#fdca26"
            ],
            [
             1,
             "#f0f921"
            ]
           ],
           "sequentialminus": [
            [
             0,
             "#0d0887"
            ],
            [
             0.1111111111111111,
             "#46039f"
            ],
            [
             0.2222222222222222,
             "#7201a8"
            ],
            [
             0.3333333333333333,
             "#9c179e"
            ],
            [
             0.4444444444444444,
             "#bd3786"
            ],
            [
             0.5555555555555556,
             "#d8576b"
            ],
            [
             0.6666666666666666,
             "#ed7953"
            ],
            [
             0.7777777777777778,
             "#fb9f3a"
            ],
            [
             0.8888888888888888,
             "#fdca26"
            ],
            [
             1,
             "#f0f921"
            ]
           ]
          },
          "colorway": [
           "#636efa",
           "#EF553B",
           "#00cc96",
           "#ab63fa",
           "#FFA15A",
           "#19d3f3",
           "#FF6692",
           "#B6E880",
           "#FF97FF",
           "#FECB52"
          ],
          "font": {
           "color": "#2a3f5f"
          },
          "geo": {
           "bgcolor": "white",
           "lakecolor": "white",
           "landcolor": "#E5ECF6",
           "showlakes": true,
           "showland": true,
           "subunitcolor": "white"
          },
          "hoverlabel": {
           "align": "left"
          },
          "hovermode": "closest",
          "mapbox": {
           "style": "light"
          },
          "paper_bgcolor": "white",
          "plot_bgcolor": "#E5ECF6",
          "polar": {
           "angularaxis": {
            "gridcolor": "white",
            "linecolor": "white",
            "ticks": ""
           },
           "bgcolor": "#E5ECF6",
           "radialaxis": {
            "gridcolor": "white",
            "linecolor": "white",
            "ticks": ""
           }
          },
          "scene": {
           "xaxis": {
            "backgroundcolor": "#E5ECF6",
            "gridcolor": "white",
            "gridwidth": 2,
            "linecolor": "white",
            "showbackground": true,
            "ticks": "",
            "zerolinecolor": "white"
           },
           "yaxis": {
            "backgroundcolor": "#E5ECF6",
            "gridcolor": "white",
            "gridwidth": 2,
            "linecolor": "white",
            "showbackground": true,
            "ticks": "",
            "zerolinecolor": "white"
           },
           "zaxis": {
            "backgroundcolor": "#E5ECF6",
            "gridcolor": "white",
            "gridwidth": 2,
            "linecolor": "white",
            "showbackground": true,
            "ticks": "",
            "zerolinecolor": "white"
           }
          },
          "shapedefaults": {
           "line": {
            "color": "#2a3f5f"
           }
          },
          "ternary": {
           "aaxis": {
            "gridcolor": "white",
            "linecolor": "white",
            "ticks": ""
           },
           "baxis": {
            "gridcolor": "white",
            "linecolor": "white",
            "ticks": ""
           },
           "bgcolor": "#E5ECF6",
           "caxis": {
            "gridcolor": "white",
            "linecolor": "white",
            "ticks": ""
           }
          },
          "title": {
           "x": 0.05
          },
          "xaxis": {
           "automargin": true,
           "gridcolor": "white",
           "linecolor": "white",
           "ticks": "",
           "title": {
            "standoff": 15
           },
           "zerolinecolor": "white",
           "zerolinewidth": 2
          },
          "yaxis": {
           "automargin": true,
           "gridcolor": "white",
           "linecolor": "white",
           "ticks": "",
           "title": {
            "standoff": 15
           },
           "zerolinecolor": "white",
           "zerolinewidth": 2
          }
         }
        },
        "xaxis": {
         "anchor": "y",
         "domain": [
          0,
          1
         ],
         "title": {
          "text": "x"
         }
        },
        "yaxis": {
         "anchor": "x",
         "domain": [
          0,
          1
         ],
         "title": {
          "text": "y"
         }
        }
       }
      },
      "text/html": [
       "<div>                            <div id=\"083a2543-92d8-40c9-99dc-d1cf3a637355\" class=\"plotly-graph-div\" style=\"height:525px; width:100%;\"></div>            <script type=\"text/javascript\">                require([\"plotly\"], function(Plotly) {                    window.PLOTLYENV=window.PLOTLYENV || {};                                    if (document.getElementById(\"083a2543-92d8-40c9-99dc-d1cf3a637355\")) {                    Plotly.newPlot(                        \"083a2543-92d8-40c9-99dc-d1cf3a637355\",                        [{\"hovertemplate\":\"x=%{x}<br>y=%{y}<extra></extra>\",\"legendgroup\":\"\",\"marker\":{\"color\":\"#636efa\",\"symbol\":\"circle\"},\"mode\":\"markers\",\"name\":\"\",\"orientation\":\"v\",\"showlegend\":false,\"type\":\"scatter\",\"x\":[1840.0,1759.0,1190.0,1088.0,873.0,2279.0,695.0,1449.0,2279.0,3227.0,2249.0,4663.0,4986.0,2436.0,1920.0,432.0,2063.0,3208.0,868.0,2279.0,2289.0,3217.0,3500.0,748.0,2409.0,1190.0,1061.0,860.0,2811.0,1650.0,1666.0,4016.0,2279.0,3844.0,1973.0,625.0,1524.0,1054.0,1526.0,875.0,1850.0,1144.0,2292.0,2279.0,2964.0,688.0,1661.0,2663.0,634.0,756.0,530.0,1061.0,695.0,2685.0,3243.0,2342.0,2481.0,440.0,1311.0,915.0,647.0,948.0,565.0,1593.0,2300.0,2028.0,1014.0,1359.0,3260.0,830.0,951.0,652.0,3428.0,2311.0,704.0,1580.0,2042.0,638.0,1816.0,2481.0,3201.0,1096.0,2221.0,661.0,814.0,2429.0,1601.0,634.0,939.0,695.0],\"xaxis\":\"x\",\"y\":[2800000.0,2650000.0,1005000.0,1678000.0,1380000.0,6924100.0,501000.0,2400000.0,9316988.0,10200000.0,4100000.0,7200000.0,13240000.0,4900000.0,3870000.0,640000.0,4750000.0,11648526.0,1090000.0,4400000.0,8909688.0,12376829.0,8000000.0,999500.0,5350000.0,1250000.0,1770000.0,905000.0,6053000.0,3250000.0,5150000.0,12750000.0,9164250.0,6761138.0,4050000.0,1360000.0,2495000.0,1175000.0,2250000.0,1350000.0,3145000.0,1658000.0,3836438.0,6720000.0,15000000.0,1651544.0,3300000.0,5270000.0,858000.0,685000.0,490000.0,1754000.0,475000.0,7722000.0,12142631.0,3700000.0,4800000.0,630000.0,2050000.0,424770.0,496860.0,1275000.0,520000.0,3920263.0,4500000.0,3550000.0,1320000.0,1404586.0,12200000.0,785000.0,1175000.0,982500.0,3850000.0,3400000.0,710000.0,2700000.0,4100000.0,895000.0,3635000.0,4800000.0,12040000.0,1550000.0,4600000.0,750000.0,1150403.0,5761259.0,2600000.0,605000.0,960000.0,975000.0],\"yaxis\":\"y\"},{\"hovertemplate\":\"<b>OLS trendline</b><br>y = 3076.45 * x + -1.50536e+06<br>R<sup>2</sup>=0.748751<br><br>x=%{x}<br>y=%{y} <b>(trend)</b><extra></extra>\",\"legendgroup\":\"\",\"marker\":{\"color\":\"#636efa\",\"symbol\":\"circle\"},\"mode\":\"lines\",\"name\":\"\",\"showlegend\":false,\"type\":\"scatter\",\"x\":[432.0,440.0,530.0,565.0,625.0,634.0,634.0,638.0,647.0,652.0,661.0,688.0,695.0,695.0,695.0,704.0,748.0,756.0,814.0,830.0,860.0,868.0,873.0,875.0,915.0,939.0,948.0,951.0,1014.0,1054.0,1061.0,1061.0,1088.0,1096.0,1144.0,1190.0,1190.0,1311.0,1359.0,1449.0,1524.0,1526.0,1580.0,1593.0,1601.0,1650.0,1661.0,1666.0,1759.0,1816.0,1840.0,1850.0,1920.0,1973.0,2028.0,2042.0,2063.0,2221.0,2249.0,2279.0,2279.0,2279.0,2279.0,2279.0,2289.0,2292.0,2300.0,2311.0,2342.0,2409.0,2429.0,2436.0,2481.0,2481.0,2663.0,2685.0,2811.0,2964.0,3201.0,3208.0,3217.0,3227.0,3243.0,3260.0,3428.0,3500.0,3844.0,4016.0,4663.0,4986.0],\"xaxis\":\"x\",\"y\":[-176338.6537175437,-151727.07247419166,125153.21651351848,232828.8844531835,417415.7437783235,445103.7726770947,445103.7726770947,457409.5632987707,485097.5921975416,500479.8304746365,528167.8593734077,611231.9460697207,632767.0796576538,632767.0796576538,632767.0796576538,660455.1085564247,795818.8053948609,820430.386638213,998864.350652515,1048087.513139219,1140380.942801789,1164992.524045141,1180374.7623222359,1186527.657633074,1309585.5638498338,1383420.30757989,1411108.3364786608,1420337.679444918,1614153.8817363153,1737211.787953075,1758746.9215410082,1758746.9215410082,1841811.0082373214,1866422.5894806734,2014092.0769407852,2155608.6690900596,2155608.6690900596,2527858.8353957585,2675528.3228558707,2952408.611843581,3183142.186000006,3189295.0813108436,3355423.25470347,3395417.0742239165,3420028.6554672685,3570774.5905827996,3604615.5147924093,3619997.7530695037,3906107.3850234714,4081464.9013823546,4155299.6451124107,4186064.1216666005,4401415.4575459305,4564467.183283137,4733671.804331183,4776742.071507048,4841347.472270848,5327426.201827049,5413566.736178782,5505860.165841352,5505860.165841352,5505860.165841352,5505860.165841352,5505860.165841352,5536624.642395541,5545853.9853618,5570465.566605151,5604306.49081476,5699676.36813275,5905798.3610458225,5967327.314154202,5988862.447742134,6127302.59223599,6127302.59223599,6687216.065522248,6754897.913941467,7142530.318524262,7613226.8098033685,8342344.904137671,8363880.037725605,8391568.066624375,8422332.543178566,8471555.70566527,8523855.315807393,9040698.521917785,9262202.753107954,10320500.74657209,10849649.743304158,12840111.376360252,13833803.969060589],\"yaxis\":\"y\"}],                        {\"legend\":{\"tracegroupgap\":0},\"margin\":{\"t\":60},\"template\":{\"data\":{\"bar\":[{\"error_x\":{\"color\":\"#2a3f5f\"},\"error_y\":{\"color\":\"#2a3f5f\"},\"marker\":{\"line\":{\"color\":\"#E5ECF6\",\"width\":0.5},\"pattern\":{\"fillmode\":\"overlay\",\"size\":10,\"solidity\":0.2}},\"type\":\"bar\"}],\"barpolar\":[{\"marker\":{\"line\":{\"color\":\"#E5ECF6\",\"width\":0.5},\"pattern\":{\"fillmode\":\"overlay\",\"size\":10,\"solidity\":0.2}},\"type\":\"barpolar\"}],\"carpet\":[{\"aaxis\":{\"endlinecolor\":\"#2a3f5f\",\"gridcolor\":\"white\",\"linecolor\":\"white\",\"minorgridcolor\":\"white\",\"startlinecolor\":\"#2a3f5f\"},\"baxis\":{\"endlinecolor\":\"#2a3f5f\",\"gridcolor\":\"white\",\"linecolor\":\"white\",\"minorgridcolor\":\"white\",\"startlinecolor\":\"#2a3f5f\"},\"type\":\"carpet\"}],\"choropleth\":[{\"colorbar\":{\"outlinewidth\":0,\"ticks\":\"\"},\"type\":\"choropleth\"}],\"contour\":[{\"colorbar\":{\"outlinewidth\":0,\"ticks\":\"\"},\"colorscale\":[[0.0,\"#0d0887\"],[0.1111111111111111,\"#46039f\"],[0.2222222222222222,\"#7201a8\"],[0.3333333333333333,\"#9c179e\"],[0.4444444444444444,\"#bd3786\"],[0.5555555555555556,\"#d8576b\"],[0.6666666666666666,\"#ed7953\"],[0.7777777777777778,\"#fb9f3a\"],[0.8888888888888888,\"#fdca26\"],[1.0,\"#f0f921\"]],\"type\":\"contour\"}],\"contourcarpet\":[{\"colorbar\":{\"outlinewidth\":0,\"ticks\":\"\"},\"type\":\"contourcarpet\"}],\"heatmap\":[{\"colorbar\":{\"outlinewidth\":0,\"ticks\":\"\"},\"colorscale\":[[0.0,\"#0d0887\"],[0.1111111111111111,\"#46039f\"],[0.2222222222222222,\"#7201a8\"],[0.3333333333333333,\"#9c179e\"],[0.4444444444444444,\"#bd3786\"],[0.5555555555555556,\"#d8576b\"],[0.6666666666666666,\"#ed7953\"],[0.7777777777777778,\"#fb9f3a\"],[0.8888888888888888,\"#fdca26\"],[1.0,\"#f0f921\"]],\"type\":\"heatmap\"}],\"heatmapgl\":[{\"colorbar\":{\"outlinewidth\":0,\"ticks\":\"\"},\"colorscale\":[[0.0,\"#0d0887\"],[0.1111111111111111,\"#46039f\"],[0.2222222222222222,\"#7201a8\"],[0.3333333333333333,\"#9c179e\"],[0.4444444444444444,\"#bd3786\"],[0.5555555555555556,\"#d8576b\"],[0.6666666666666666,\"#ed7953\"],[0.7777777777777778,\"#fb9f3a\"],[0.8888888888888888,\"#fdca26\"],[1.0,\"#f0f921\"]],\"type\":\"heatmapgl\"}],\"histogram\":[{\"marker\":{\"pattern\":{\"fillmode\":\"overlay\",\"size\":10,\"solidity\":0.2}},\"type\":\"histogram\"}],\"histogram2d\":[{\"colorbar\":{\"outlinewidth\":0,\"ticks\":\"\"},\"colorscale\":[[0.0,\"#0d0887\"],[0.1111111111111111,\"#46039f\"],[0.2222222222222222,\"#7201a8\"],[0.3333333333333333,\"#9c179e\"],[0.4444444444444444,\"#bd3786\"],[0.5555555555555556,\"#d8576b\"],[0.6666666666666666,\"#ed7953\"],[0.7777777777777778,\"#fb9f3a\"],[0.8888888888888888,\"#fdca26\"],[1.0,\"#f0f921\"]],\"type\":\"histogram2d\"}],\"histogram2dcontour\":[{\"colorbar\":{\"outlinewidth\":0,\"ticks\":\"\"},\"colorscale\":[[0.0,\"#0d0887\"],[0.1111111111111111,\"#46039f\"],[0.2222222222222222,\"#7201a8\"],[0.3333333333333333,\"#9c179e\"],[0.4444444444444444,\"#bd3786\"],[0.5555555555555556,\"#d8576b\"],[0.6666666666666666,\"#ed7953\"],[0.7777777777777778,\"#fb9f3a\"],[0.8888888888888888,\"#fdca26\"],[1.0,\"#f0f921\"]],\"type\":\"histogram2dcontour\"}],\"mesh3d\":[{\"colorbar\":{\"outlinewidth\":0,\"ticks\":\"\"},\"type\":\"mesh3d\"}],\"parcoords\":[{\"line\":{\"colorbar\":{\"outlinewidth\":0,\"ticks\":\"\"}},\"type\":\"parcoords\"}],\"pie\":[{\"automargin\":true,\"type\":\"pie\"}],\"scatter\":[{\"marker\":{\"colorbar\":{\"outlinewidth\":0,\"ticks\":\"\"}},\"type\":\"scatter\"}],\"scatter3d\":[{\"line\":{\"colorbar\":{\"outlinewidth\":0,\"ticks\":\"\"}},\"marker\":{\"colorbar\":{\"outlinewidth\":0,\"ticks\":\"\"}},\"type\":\"scatter3d\"}],\"scattercarpet\":[{\"marker\":{\"colorbar\":{\"outlinewidth\":0,\"ticks\":\"\"}},\"type\":\"scattercarpet\"}],\"scattergeo\":[{\"marker\":{\"colorbar\":{\"outlinewidth\":0,\"ticks\":\"\"}},\"type\":\"scattergeo\"}],\"scattergl\":[{\"marker\":{\"colorbar\":{\"outlinewidth\":0,\"ticks\":\"\"}},\"type\":\"scattergl\"}],\"scattermapbox\":[{\"marker\":{\"colorbar\":{\"outlinewidth\":0,\"ticks\":\"\"}},\"type\":\"scattermapbox\"}],\"scatterpolar\":[{\"marker\":{\"colorbar\":{\"outlinewidth\":0,\"ticks\":\"\"}},\"type\":\"scatterpolar\"}],\"scatterpolargl\":[{\"marker\":{\"colorbar\":{\"outlinewidth\":0,\"ticks\":\"\"}},\"type\":\"scatterpolargl\"}],\"scatterternary\":[{\"marker\":{\"colorbar\":{\"outlinewidth\":0,\"ticks\":\"\"}},\"type\":\"scatterternary\"}],\"surface\":[{\"colorbar\":{\"outlinewidth\":0,\"ticks\":\"\"},\"colorscale\":[[0.0,\"#0d0887\"],[0.1111111111111111,\"#46039f\"],[0.2222222222222222,\"#7201a8\"],[0.3333333333333333,\"#9c179e\"],[0.4444444444444444,\"#bd3786\"],[0.5555555555555556,\"#d8576b\"],[0.6666666666666666,\"#ed7953\"],[0.7777777777777778,\"#fb9f3a\"],[0.8888888888888888,\"#fdca26\"],[1.0,\"#f0f921\"]],\"type\":\"surface\"}],\"table\":[{\"cells\":{\"fill\":{\"color\":\"#EBF0F8\"},\"line\":{\"color\":\"white\"}},\"header\":{\"fill\":{\"color\":\"#C8D4E3\"},\"line\":{\"color\":\"white\"}},\"type\":\"table\"}]},\"layout\":{\"annotationdefaults\":{\"arrowcolor\":\"#2a3f5f\",\"arrowhead\":0,\"arrowwidth\":1},\"autotypenumbers\":\"strict\",\"coloraxis\":{\"colorbar\":{\"outlinewidth\":0,\"ticks\":\"\"}},\"colorscale\":{\"diverging\":[[0,\"#8e0152\"],[0.1,\"#c51b7d\"],[0.2,\"#de77ae\"],[0.3,\"#f1b6da\"],[0.4,\"#fde0ef\"],[0.5,\"#f7f7f7\"],[0.6,\"#e6f5d0\"],[0.7,\"#b8e186\"],[0.8,\"#7fbc41\"],[0.9,\"#4d9221\"],[1,\"#276419\"]],\"sequential\":[[0.0,\"#0d0887\"],[0.1111111111111111,\"#46039f\"],[0.2222222222222222,\"#7201a8\"],[0.3333333333333333,\"#9c179e\"],[0.4444444444444444,\"#bd3786\"],[0.5555555555555556,\"#d8576b\"],[0.6666666666666666,\"#ed7953\"],[0.7777777777777778,\"#fb9f3a\"],[0.8888888888888888,\"#fdca26\"],[1.0,\"#f0f921\"]],\"sequentialminus\":[[0.0,\"#0d0887\"],[0.1111111111111111,\"#46039f\"],[0.2222222222222222,\"#7201a8\"],[0.3333333333333333,\"#9c179e\"],[0.4444444444444444,\"#bd3786\"],[0.5555555555555556,\"#d8576b\"],[0.6666666666666666,\"#ed7953\"],[0.7777777777777778,\"#fb9f3a\"],[0.8888888888888888,\"#fdca26\"],[1.0,\"#f0f921\"]]},\"colorway\":[\"#636efa\",\"#EF553B\",\"#00cc96\",\"#ab63fa\",\"#FFA15A\",\"#19d3f3\",\"#FF6692\",\"#B6E880\",\"#FF97FF\",\"#FECB52\"],\"font\":{\"color\":\"#2a3f5f\"},\"geo\":{\"bgcolor\":\"white\",\"lakecolor\":\"white\",\"landcolor\":\"#E5ECF6\",\"showlakes\":true,\"showland\":true,\"subunitcolor\":\"white\"},\"hoverlabel\":{\"align\":\"left\"},\"hovermode\":\"closest\",\"mapbox\":{\"style\":\"light\"},\"paper_bgcolor\":\"white\",\"plot_bgcolor\":\"#E5ECF6\",\"polar\":{\"angularaxis\":{\"gridcolor\":\"white\",\"linecolor\":\"white\",\"ticks\":\"\"},\"bgcolor\":\"#E5ECF6\",\"radialaxis\":{\"gridcolor\":\"white\",\"linecolor\":\"white\",\"ticks\":\"\"}},\"scene\":{\"xaxis\":{\"backgroundcolor\":\"#E5ECF6\",\"gridcolor\":\"white\",\"gridwidth\":2,\"linecolor\":\"white\",\"showbackground\":true,\"ticks\":\"\",\"zerolinecolor\":\"white\"},\"yaxis\":{\"backgroundcolor\":\"#E5ECF6\",\"gridcolor\":\"white\",\"gridwidth\":2,\"linecolor\":\"white\",\"showbackground\":true,\"ticks\":\"\",\"zerolinecolor\":\"white\"},\"zaxis\":{\"backgroundcolor\":\"#E5ECF6\",\"gridcolor\":\"white\",\"gridwidth\":2,\"linecolor\":\"white\",\"showbackground\":true,\"ticks\":\"\",\"zerolinecolor\":\"white\"}},\"shapedefaults\":{\"line\":{\"color\":\"#2a3f5f\"}},\"ternary\":{\"aaxis\":{\"gridcolor\":\"white\",\"linecolor\":\"white\",\"ticks\":\"\"},\"baxis\":{\"gridcolor\":\"white\",\"linecolor\":\"white\",\"ticks\":\"\"},\"bgcolor\":\"#E5ECF6\",\"caxis\":{\"gridcolor\":\"white\",\"linecolor\":\"white\",\"ticks\":\"\"}},\"title\":{\"x\":0.05},\"xaxis\":{\"automargin\":true,\"gridcolor\":\"white\",\"linecolor\":\"white\",\"ticks\":\"\",\"title\":{\"standoff\":15},\"zerolinecolor\":\"white\",\"zerolinewidth\":2},\"yaxis\":{\"automargin\":true,\"gridcolor\":\"white\",\"linecolor\":\"white\",\"ticks\":\"\",\"title\":{\"standoff\":15},\"zerolinecolor\":\"white\",\"zerolinewidth\":2}}},\"xaxis\":{\"anchor\":\"y\",\"domain\":[0.0,1.0],\"title\":{\"text\":\"x\"}},\"yaxis\":{\"anchor\":\"x\",\"domain\":[0.0,1.0],\"title\":{\"text\":\"y\"}}},                        {\"responsive\": true}                    ).then(function(){\n",
       "                            \n",
       "var gd = document.getElementById('083a2543-92d8-40c9-99dc-d1cf3a637355');\n",
       "var x = new MutationObserver(function (mutations, observer) {{\n",
       "        var display = window.getComputedStyle(gd).display;\n",
       "        if (!display || display === 'none') {{\n",
       "            console.log([gd, 'removed!']);\n",
       "            Plotly.purge(gd);\n",
       "            observer.disconnect();\n",
       "        }}\n",
       "}});\n",
       "\n",
       "// Listen for the removal of the full notebook cells\n",
       "var notebookContainer = gd.closest('#notebook-container');\n",
       "if (notebookContainer) {{\n",
       "    x.observe(notebookContainer, {childList: true});\n",
       "}}\n",
       "\n",
       "// Listen for the clearing of the current output cell\n",
       "var outputEl = gd.closest('.output');\n",
       "if (outputEl) {{\n",
       "    x.observe(outputEl, {childList: true});\n",
       "}}\n",
       "\n",
       "                        })                };                });            </script>        </div>"
      ]
     },
     "metadata": {},
     "output_type": "display_data"
    }
   ],
   "source": [
    "# Now that you've removed outliers,\n",
    "# Look again at a scatter plot with OLS (Ordinary Least Squares) trendline\n",
    "fig = px.scatter(x=tribeca_adjusted['GROSS_SQUARE_FEET'], y=tribeca_adjusted['SALE_PRICE'], trendline='ols')\n",
    "fig.show()"
   ]
  },
  {
   "cell_type": "code",
   "execution_count": null,
   "metadata": {},
   "outputs": [],
   "source": [
    "# Select these columns, then write to a csv file named tribeca.csv. Don't include the index.\n"
   ]
  }
 ],
 "metadata": {
  "jupytext": {
   "cell_metadata_filter": "-all",
   "main_language": "python",
   "notebook_metadata_filter": "-all"
  },
  "kernelspec": {
   "display_name": "Python 3 (ipykernel)",
   "language": "python",
   "name": "python3"
  },
  "language_info": {
   "codemirror_mode": {
    "name": "ipython",
    "version": 3
   },
   "file_extension": ".py",
   "mimetype": "text/x-python",
   "name": "python",
   "nbconvert_exporter": "python",
   "pygments_lexer": "ipython3",
   "version": "3.9.7"
  }
 },
 "nbformat": 4,
 "nbformat_minor": 2
}
